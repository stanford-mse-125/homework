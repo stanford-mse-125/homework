{
 "cells": [
  {
   "cell_type": "markdown",
   "metadata": {
    "id": "oGZfUFDh2VBU"
   },
   "source": [
    "# HW2: Using Pandas for Stock Analysis\n",
    "\n",
    "**Due**: Wednesday 4/19"
   ]
  },
  {
   "cell_type": "markdown",
   "metadata": {},
   "source": [
    "### HW Logistics\n",
    "\n",
    "- **Release**: HW2 will be due on Wednesday 4/19. However, going forward every week there will be a HW assignment released on *Wednesday* and due the following *Tuesday at 11:59pm*. \n",
    "Homework will be posted to the course website. \n",
    "- **Format**: We expect students to complete the homework notebooks using Google Colab (see Discussion 1), but this is not explicitly required and you may use whatever software you would like to run notebooks. \n",
    "- **Answers**: As a general guiding policy, you should always try to make it as clear as possible what your answer to each question is, and how you arrived at your answer. Generally speaking, this will mean including all code used to generate results, outputting the actual results to the notebook, and (when necessary) including written answers to support your code.\n",
    "- **Submission**: Homeworks will be *submitted to Gradescope*, and we expect all students to do question matching on Gradescope upon submission.\n",
    "- **Late Policy**: All students are allowed 7 total slip days for the quarter, and at most 5 can be used for a single HW assignment. There will be no late credit if you have used up all your slip days. Also, your lowest HW grade will be dropped."
   ]
  },
  {
   "cell_type": "markdown",
   "metadata": {},
   "source": [
    "#### **Copying Notebooks (important)**\n",
    "\n",
    "As was the case for Discussion 1, if you go to save this notebook, you will be told that you need to make a copy of the notebook to your personal google drive in order to edit and run the notebook. Thus, at the beginning of each homework, you will need to **make a copy of the notebook to your personal Google Drive** by clicking File -> Save a copy in Drive."
   ]
  },
  {
   "cell_type": "code",
   "execution_count": 2,
   "metadata": {
    "id": "JAzIx3_pTxDg"
   },
   "outputs": [],
   "source": [
    "import numpy as np \n",
    "import pandas as pd\n",
    "import matplotlib.pyplot as plt \n",
    "import seaborn as sns\n",
    "sns.set_theme()"
   ]
  },
  {
   "cell_type": "markdown",
   "metadata": {
    "id": "EKfpgWn_2iQU"
   },
   "source": [
    "Throughout this HW, you are going to be working with stock data from the New York Stock Exchange. \n",
    "\n",
    "**Question 1**: The data that contains the stock prices over time can be found in the file [stock_prices.csv](https://github.com/stanford-mse-125/homework/blob/main/data/stock_prices.csv). \n",
    "\n",
    "Note: You can either download the data and import the `.csv` file, or use the Github raw data URL in your import statement (see Discussion 2). \n",
    "\n",
    "(a) Read the data into a pandas dataframe called `prices_df`, and print the resulting dataframe. "
   ]
  },
  {
   "cell_type": "markdown",
   "metadata": {
    "id": "1nU-GO7rWn_Z"
   },
   "source": [
    "(b) Answer the following questions about the dataset:\n",
    "- How many rows are in the dataset? What does one row represent?\n",
    "- How many columns are in the dataset? What does one column represent?\n",
    "- For each column in the dataset, describe what the column most likely represents. Since you don't have documentation to refer to, we don't expect exact answers, but you should be able to roughly figure out what each column is."
   ]
  },
  {
   "cell_type": "markdown",
   "metadata": {
    "id": "fzYwV_FNWx5H"
   },
   "source": [
    "**Question 2**: Before looking at the price information of different stocks, it is good to know a little information about each stock.\n",
    "\n",
    "(a) A second CSV file [stock_info.csv](https://github.com/stanford-mse-125/homework/blob/main/data/stock_info.csv) contains some basic information about stocks in the NYSE. Read in the CSV file and store it as `stock_info_df`. Print out the resulting dataframe.\n",
    "\n",
    "Note: You can either download the data and import the `.csv` file, or use the Github raw data URL in your import statement (see Discussion 2)."
   ]
  },
  {
   "cell_type": "markdown",
   "metadata": {
    "id": "EuHjlTC5g8Fw"
   },
   "source": [
    "(b) Find how many stocks in `stock_info_df` belong to each sector. Your result should contain 1 column for the sector, and 1 column displaying the number of rows in `stock_info_df` for each sector. \n"
   ]
  },
  {
   "cell_type": "markdown",
   "metadata": {
    "id": "Z2bHEMPxg9e_"
   },
   "source": [
    "(c) You now want to use `stock_info_df` to get information about the stocks you have price information about in `prices_df`. Create a dataframe with the \"sector\" of each stock in `prices_df`. (Some stocks in `prices_df` may not have information in `stock_info.csv`, in which case your resulting dataframe should contain NaNs)."
   ]
  },
  {
   "cell_type": "markdown",
   "metadata": {},
   "source": [
    "(d) How many stocks do we not know the sector for after using `stock_info_df`?"
   ]
  },
  {
   "cell_type": "markdown",
   "metadata": {
    "id": "Kt5X-Qnpg4Y7"
   },
   "source": [
    "**Question 3**: Now let's look at the price data. \n",
    "\n",
    "(a) Make a visualization to look at the \"open\" stock price for each stock in `prices_df`. Which stock do you think looks like the most promising stock to invest in based on your visualization?"
   ]
  },
  {
   "cell_type": "markdown",
   "metadata": {
    "id": "WZlFP-l2N9YQ"
   },
   "source": [
    "(b) You want to decide which stock(s) to invest in. One metric you can use to decide which stock is best is the [cumulative return](https://www.investopedia.com/terms/c/cumulativereturn.asp) (CR) of the stock, with the formula $$CR = \\frac{Last Price - First Price}{First Price}.$$ Find and print the cumulative returns using the opening price of each stock in the dataset across the entire time window in the data *(Hint: you can assume for this data since it happens to be true that the data is ordered by date, i.e. the first price is the price sample for a give symbol)*.\n",
    "\n"
   ]
  },
  {
   "cell_type": "markdown",
   "metadata": {},
   "source": [
    "(c) In hindsight, what was the best day to have purchased each of the stocks in the dataset? One (perhaps flawed) way to find this is to find the day in which the opening price was lowest for each stock. Print a dataframe with the day of the lowest opening price and the corresponding opening price on that day for each stock in dataframe."
   ]
  },
  {
   "cell_type": "markdown",
   "metadata": {},
   "source": [
    "(d) Find and print the date in which total combined price of the stocks was lowest, and the corresponding total combined price"
   ]
  }
 ],
 "metadata": {
  "colab": {
   "provenance": []
  },
  "kernelspec": {
   "display_name": "Python 3",
   "language": "python",
   "name": "python3"
  },
  "language_info": {
   "codemirror_mode": {
    "name": "ipython",
    "version": 3
   },
   "file_extension": ".py",
   "mimetype": "text/x-python",
   "name": "python",
   "nbconvert_exporter": "python",
   "pygments_lexer": "ipython3",
   "version": "3.8.8"
  }
 },
 "nbformat": 4,
 "nbformat_minor": 1
}
