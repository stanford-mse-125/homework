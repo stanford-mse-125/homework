{
 "cells": [
  {
   "attachments": {},
   "cell_type": "markdown",
   "metadata": {},
   "source": [
    "# Homework 8: Logistic Regression\n",
    "\n",
    "**Due**: Monday June 5th.\n",
    "\n",
    "- **Format**: We expect students to complete the homework notebooks using Google Colab (see Discussion 1), but this is not explicitly required and you may use whatever software you would like to run notebooks. \n",
    "- **Answers**: As a general guiding policy, you should always try to make it as clear as possible what your answer to each question is, and how you arrived at your answer. Generally speaking, this will mean including all code used to generate results, outputting the actual results to the notebook, and (when necessary) including written answers to support your code.\n",
    "- **Submission**: Homeworks will be *submitted to Gradescope*, and we expect all students to do question matching on Gradescope upon submission.\n",
    "- **Late Policy**: All students are allowed 7 total slip days for the quarter, and at most 5 can be used for a single HW assignment. There will be no late credit if you have used up all your slip days. Also, your lowest HW grade will be dropped."
   ]
  },
  {
   "cell_type": "code",
   "execution_count": 2,
   "metadata": {},
   "outputs": [],
   "source": [
    "import numpy as np \n",
    "import pandas as pd\n",
    "import matplotlib.pyplot as plt\n",
    "import seaborn as sns\n",
    "import statsmodels.api as sm\n",
    "import statsmodels.formula.api as smf\n",
    "sns.set_theme()"
   ]
  },
  {
   "attachments": {},
   "cell_type": "markdown",
   "metadata": {},
   "source": [
    "## Question 1: Classification Metrics\n",
    "\n",
    "Consider the following confusion matrix, which compares the predictions and actual labels in a classification problem of predicting whether or not a person has covid-19."
   ]
  },
  {
   "cell_type": "code",
   "execution_count": 3,
   "metadata": {},
   "outputs": [
    {
     "data": {
      "text/plain": [
       "Text(0.5, 1.0, 'Confusion Matrix for Covid Test')"
      ]
     },
     "execution_count": 3,
     "metadata": {},
     "output_type": "execute_result"
    },
    {
     "data": {
      "image/png": "[encoded data removed]",
      "text/plain": [
       "<Figure size 640x480 with 2 Axes>"
      ]
     },
     "metadata": {},
     "output_type": "display_data"
    }
   ],
   "source": [
    "from sklearn.metrics import ConfusionMatrixDisplay\n",
    "\n",
    "cm = ConfusionMatrixDisplay(confusion_matrix=np.array([[1040, 86], [101, 356]]))\n",
    "cm.plot()\n",
    "plt.title(\"Confusion Matrix for Covid Test\")"
   ]
  },
  {
   "attachments": {},
   "cell_type": "markdown",
   "metadata": {},
   "source": [
    "**Part (a)**: Calculate the accuracy, precision, recall, and F1 score for the above classifier. You must calculate these metrics manually, without using functions available in various packages. For each metric, explain what the metric is measuring in the context of the problem."
   ]
  },
  {
   "cell_type": "code",
   "execution_count": 5,
   "metadata": {},
   "outputs": [
    {
     "name": "stdout",
     "output_type": "stream",
     "text": [
      "0.8818698673404928\n",
      "0.8054298642533937\n",
      "0.7789934354485777\n",
      "0.7919911012235819\n"
     ]
    }
   ],
   "source": [
    "# Calculate accuracy\n",
    "accuracy = (1040 + 356) / (1040 + 86 + 101 + 356)\n",
    "print(accuracy)\n",
    "\n",
    "# Calculate precision\n",
    "precision = 356 / (356 + 86)\n",
    "print(precision)\n",
    "\n",
    "# Calculate recall\n",
    "recall = 356 / (356 + 101)\n",
    "print(recall)\n",
    "\n",
    "# Calculate F1 score\n",
    "f1 = 2 * (precision * recall) / (precision + recall)\n",
    "print(f1)"
   ]
  },
  {
   "attachments": {},
   "cell_type": "markdown",
   "metadata": {},
   "source": [
    "- **Accuracy**: The percent of all people that tested that are corrected identified to have or not have covid.\n",
    "- **Precision**: Out of all people predicted to have covid, what percent actually have covid?\n",
    "- **Recall**: Out of all people who actually have covid, what percent are predicted correctly to have covid?\n",
    "- **F1**: The harmonic mean of the precision and recall as defined above. In a sense, this gives an average of how precise the covid test is at predicting covid without over-predicting covid, and how well it can detect covid without leaving many cases undetected."
   ]
  },
  {
   "attachments": {},
   "cell_type": "markdown",
   "metadata": {},
   "source": [
    "**Part (b)**: For each of the following classification problems, determine whether or not you think a false negative error or a false positive error is worse, or if the errors are comparable. Provide justification for your answer (there may be more than 1 correct answer depending on your justification).\n",
    "\n",
    "- A model that predicts whether (True) or not (False) a vaccine should be given to a person. Assume the vaccine generally has very minor side effects.\n",
    "- A model that predicts whether (True) or not (False) an email is spam and should thus be filtered. \n",
    "- A model that predictis whether (True) or not (False) a bank transaction should be marked as potentially fraudulent, and thus reviewed by the account owner."
   ]
  },
  {
   "attachments": {},
   "cell_type": "markdown",
   "metadata": {},
   "source": [
    "*Answer*: \n",
    "- A false negative is very bad, because this means a vaccine was not given to a person who actually needed it. Whereas a false positive is not very bad, because a person getting a vaccine that doesn't actually need it is not very harmful. Thus, a false negative is worse.\n",
    "- A false negative means that an email is not detected as spam, when it actually is. Generally this is not very bad, although can be bad if it becomes too excessive. A false positive meanwhile means that a non-spam email is flagged spam. This can be very bad if it is actually an important email that is thus never read. Thus, I would argue that a false positive is worse.\n",
    "- A false negative means that a fraudulent transcation is not marked as fraud, which is very bad. A false positive means a normal transcation is marked as fraud, which is not very bad, because the account holder should be able to easily verify that the transaction is valid. Thus a false negative is worse."
   ]
  },
  {
   "attachments": {},
   "cell_type": "markdown",
   "metadata": {},
   "source": [
    "## Question 2: Weather Data\n",
    "\n",
    "You decide to try to build your own model to predict weather it will rain tomorrow based on historical data. You use the following data to build your model."
   ]
  },
  {
   "cell_type": "code",
   "execution_count": 3,
   "metadata": {},
   "outputs": [
    {
     "data": {
      "text/html": [
       "<div>\n",
       "<style scoped>\n",
       "    .dataframe tbody tr th:only-of-type {\n",
       "        vertical-align: middle;\n",
       "    }\n",
       "\n",
       "    .dataframe tbody tr th {\n",
       "        vertical-align: top;\n",
       "    }\n",
       "\n",
       "    .dataframe thead th {\n",
       "        text-align: right;\n",
       "    }\n",
       "</style>\n",
       "<table border=\"1\" class=\"dataframe\">\n",
       "  <thead>\n",
       "    <tr style=\"text-align: right;\">\n",
       "      <th></th>\n",
       "      <th>Date</th>\n",
       "      <th>Location</th>\n",
       "      <th>MinTemp</th>\n",
       "      <th>MaxTemp</th>\n",
       "      <th>Rainfall</th>\n",
       "      <th>Evaporation</th>\n",
       "      <th>Sunshine</th>\n",
       "      <th>WindGustDir</th>\n",
       "      <th>WindGustSpeed</th>\n",
       "      <th>WindDir9am</th>\n",
       "      <th>...</th>\n",
       "      <th>Humidity9am</th>\n",
       "      <th>Humidity3pm</th>\n",
       "      <th>Pressure9am</th>\n",
       "      <th>Pressure3pm</th>\n",
       "      <th>Cloud9am</th>\n",
       "      <th>Cloud3pm</th>\n",
       "      <th>Temp9am</th>\n",
       "      <th>Temp3pm</th>\n",
       "      <th>RainToday</th>\n",
       "      <th>RainTomorrow</th>\n",
       "    </tr>\n",
       "  </thead>\n",
       "  <tbody>\n",
       "    <tr>\n",
       "      <th>0</th>\n",
       "      <td>2009-01-01</td>\n",
       "      <td>Cobar</td>\n",
       "      <td>17.9</td>\n",
       "      <td>35.2</td>\n",
       "      <td>0.0</td>\n",
       "      <td>12.0</td>\n",
       "      <td>12.3</td>\n",
       "      <td>SSW</td>\n",
       "      <td>48.0</td>\n",
       "      <td>ENE</td>\n",
       "      <td>...</td>\n",
       "      <td>20.0</td>\n",
       "      <td>13.0</td>\n",
       "      <td>1006.3</td>\n",
       "      <td>1004.4</td>\n",
       "      <td>2.0</td>\n",
       "      <td>5.0</td>\n",
       "      <td>26.6</td>\n",
       "      <td>33.4</td>\n",
       "      <td>No</td>\n",
       "      <td>No</td>\n",
       "    </tr>\n",
       "    <tr>\n",
       "      <th>1</th>\n",
       "      <td>2009-01-02</td>\n",
       "      <td>Cobar</td>\n",
       "      <td>18.4</td>\n",
       "      <td>28.9</td>\n",
       "      <td>0.0</td>\n",
       "      <td>14.8</td>\n",
       "      <td>13.0</td>\n",
       "      <td>S</td>\n",
       "      <td>37.0</td>\n",
       "      <td>SSE</td>\n",
       "      <td>...</td>\n",
       "      <td>30.0</td>\n",
       "      <td>8.0</td>\n",
       "      <td>1012.9</td>\n",
       "      <td>1012.1</td>\n",
       "      <td>1.0</td>\n",
       "      <td>1.0</td>\n",
       "      <td>20.3</td>\n",
       "      <td>27.0</td>\n",
       "      <td>No</td>\n",
       "      <td>No</td>\n",
       "    </tr>\n",
       "    <tr>\n",
       "      <th>2</th>\n",
       "      <td>2009-01-04</td>\n",
       "      <td>Cobar</td>\n",
       "      <td>19.4</td>\n",
       "      <td>37.6</td>\n",
       "      <td>0.0</td>\n",
       "      <td>10.8</td>\n",
       "      <td>10.6</td>\n",
       "      <td>NNE</td>\n",
       "      <td>46.0</td>\n",
       "      <td>NNE</td>\n",
       "      <td>...</td>\n",
       "      <td>42.0</td>\n",
       "      <td>22.0</td>\n",
       "      <td>1012.3</td>\n",
       "      <td>1009.2</td>\n",
       "      <td>1.0</td>\n",
       "      <td>6.0</td>\n",
       "      <td>28.7</td>\n",
       "      <td>34.9</td>\n",
       "      <td>No</td>\n",
       "      <td>No</td>\n",
       "    </tr>\n",
       "    <tr>\n",
       "      <th>3</th>\n",
       "      <td>2009-01-05</td>\n",
       "      <td>Cobar</td>\n",
       "      <td>21.9</td>\n",
       "      <td>38.4</td>\n",
       "      <td>0.0</td>\n",
       "      <td>11.4</td>\n",
       "      <td>12.2</td>\n",
       "      <td>WNW</td>\n",
       "      <td>31.0</td>\n",
       "      <td>WNW</td>\n",
       "      <td>...</td>\n",
       "      <td>37.0</td>\n",
       "      <td>22.0</td>\n",
       "      <td>1012.7</td>\n",
       "      <td>1009.1</td>\n",
       "      <td>1.0</td>\n",
       "      <td>5.0</td>\n",
       "      <td>29.1</td>\n",
       "      <td>35.6</td>\n",
       "      <td>No</td>\n",
       "      <td>No</td>\n",
       "    </tr>\n",
       "    <tr>\n",
       "      <th>4</th>\n",
       "      <td>2009-01-06</td>\n",
       "      <td>Cobar</td>\n",
       "      <td>24.2</td>\n",
       "      <td>41.0</td>\n",
       "      <td>0.0</td>\n",
       "      <td>11.2</td>\n",
       "      <td>8.4</td>\n",
       "      <td>WNW</td>\n",
       "      <td>35.0</td>\n",
       "      <td>NW</td>\n",
       "      <td>...</td>\n",
       "      <td>19.0</td>\n",
       "      <td>15.0</td>\n",
       "      <td>1010.7</td>\n",
       "      <td>1007.4</td>\n",
       "      <td>1.0</td>\n",
       "      <td>6.0</td>\n",
       "      <td>33.6</td>\n",
       "      <td>37.6</td>\n",
       "      <td>No</td>\n",
       "      <td>No</td>\n",
       "    </tr>\n",
       "    <tr>\n",
       "      <th>...</th>\n",
       "      <td>...</td>\n",
       "      <td>...</td>\n",
       "      <td>...</td>\n",
       "      <td>...</td>\n",
       "      <td>...</td>\n",
       "      <td>...</td>\n",
       "      <td>...</td>\n",
       "      <td>...</td>\n",
       "      <td>...</td>\n",
       "      <td>...</td>\n",
       "      <td>...</td>\n",
       "      <td>...</td>\n",
       "      <td>...</td>\n",
       "      <td>...</td>\n",
       "      <td>...</td>\n",
       "      <td>...</td>\n",
       "      <td>...</td>\n",
       "      <td>...</td>\n",
       "      <td>...</td>\n",
       "      <td>...</td>\n",
       "      <td>...</td>\n",
       "    </tr>\n",
       "    <tr>\n",
       "      <th>56415</th>\n",
       "      <td>2017-06-20</td>\n",
       "      <td>Darwin</td>\n",
       "      <td>19.3</td>\n",
       "      <td>33.4</td>\n",
       "      <td>0.0</td>\n",
       "      <td>6.0</td>\n",
       "      <td>11.0</td>\n",
       "      <td>ENE</td>\n",
       "      <td>35.0</td>\n",
       "      <td>SE</td>\n",
       "      <td>...</td>\n",
       "      <td>63.0</td>\n",
       "      <td>32.0</td>\n",
       "      <td>1013.9</td>\n",
       "      <td>1010.5</td>\n",
       "      <td>0.0</td>\n",
       "      <td>1.0</td>\n",
       "      <td>24.5</td>\n",
       "      <td>32.3</td>\n",
       "      <td>No</td>\n",
       "      <td>No</td>\n",
       "    </tr>\n",
       "    <tr>\n",
       "      <th>56416</th>\n",
       "      <td>2017-06-21</td>\n",
       "      <td>Darwin</td>\n",
       "      <td>21.2</td>\n",
       "      <td>32.6</td>\n",
       "      <td>0.0</td>\n",
       "      <td>7.6</td>\n",
       "      <td>8.6</td>\n",
       "      <td>E</td>\n",
       "      <td>37.0</td>\n",
       "      <td>SE</td>\n",
       "      <td>...</td>\n",
       "      <td>56.0</td>\n",
       "      <td>28.0</td>\n",
       "      <td>1014.6</td>\n",
       "      <td>1011.2</td>\n",
       "      <td>7.0</td>\n",
       "      <td>0.0</td>\n",
       "      <td>24.8</td>\n",
       "      <td>32.0</td>\n",
       "      <td>No</td>\n",
       "      <td>No</td>\n",
       "    </tr>\n",
       "    <tr>\n",
       "      <th>56417</th>\n",
       "      <td>2017-06-22</td>\n",
       "      <td>Darwin</td>\n",
       "      <td>20.7</td>\n",
       "      <td>32.8</td>\n",
       "      <td>0.0</td>\n",
       "      <td>5.6</td>\n",
       "      <td>11.0</td>\n",
       "      <td>E</td>\n",
       "      <td>33.0</td>\n",
       "      <td>E</td>\n",
       "      <td>...</td>\n",
       "      <td>46.0</td>\n",
       "      <td>23.0</td>\n",
       "      <td>1015.3</td>\n",
       "      <td>1011.8</td>\n",
       "      <td>0.0</td>\n",
       "      <td>0.0</td>\n",
       "      <td>24.8</td>\n",
       "      <td>32.1</td>\n",
       "      <td>No</td>\n",
       "      <td>No</td>\n",
       "    </tr>\n",
       "    <tr>\n",
       "      <th>56418</th>\n",
       "      <td>2017-06-23</td>\n",
       "      <td>Darwin</td>\n",
       "      <td>19.5</td>\n",
       "      <td>31.8</td>\n",
       "      <td>0.0</td>\n",
       "      <td>6.2</td>\n",
       "      <td>10.6</td>\n",
       "      <td>ESE</td>\n",
       "      <td>26.0</td>\n",
       "      <td>SE</td>\n",
       "      <td>...</td>\n",
       "      <td>62.0</td>\n",
       "      <td>58.0</td>\n",
       "      <td>1014.9</td>\n",
       "      <td>1010.7</td>\n",
       "      <td>1.0</td>\n",
       "      <td>1.0</td>\n",
       "      <td>24.8</td>\n",
       "      <td>29.2</td>\n",
       "      <td>No</td>\n",
       "      <td>No</td>\n",
       "    </tr>\n",
       "    <tr>\n",
       "      <th>56419</th>\n",
       "      <td>2017-06-24</td>\n",
       "      <td>Darwin</td>\n",
       "      <td>20.2</td>\n",
       "      <td>31.7</td>\n",
       "      <td>0.0</td>\n",
       "      <td>5.6</td>\n",
       "      <td>10.7</td>\n",
       "      <td>ENE</td>\n",
       "      <td>30.0</td>\n",
       "      <td>ENE</td>\n",
       "      <td>...</td>\n",
       "      <td>73.0</td>\n",
       "      <td>32.0</td>\n",
       "      <td>1013.9</td>\n",
       "      <td>1009.7</td>\n",
       "      <td>6.0</td>\n",
       "      <td>5.0</td>\n",
       "      <td>25.4</td>\n",
       "      <td>31.0</td>\n",
       "      <td>No</td>\n",
       "      <td>No</td>\n",
       "    </tr>\n",
       "  </tbody>\n",
       "</table>\n",
       "<p>56420 rows × 23 columns</p>\n",
       "</div>"
      ],
      "text/plain": [
       "             Date Location  MinTemp  MaxTemp  Rainfall  Evaporation  Sunshine  \\\n",
       "0      2009-01-01    Cobar     17.9     35.2       0.0         12.0      12.3   \n",
       "1      2009-01-02    Cobar     18.4     28.9       0.0         14.8      13.0   \n",
       "2      2009-01-04    Cobar     19.4     37.6       0.0         10.8      10.6   \n",
       "3      2009-01-05    Cobar     21.9     38.4       0.0         11.4      12.2   \n",
       "4      2009-01-06    Cobar     24.2     41.0       0.0         11.2       8.4   \n",
       "...           ...      ...      ...      ...       ...          ...       ...   \n",
       "56415  2017-06-20   Darwin     19.3     33.4       0.0          6.0      11.0   \n",
       "56416  2017-06-21   Darwin     21.2     32.6       0.0          7.6       8.6   \n",
       "56417  2017-06-22   Darwin     20.7     32.8       0.0          5.6      11.0   \n",
       "56418  2017-06-23   Darwin     19.5     31.8       0.0          6.2      10.6   \n",
       "56419  2017-06-24   Darwin     20.2     31.7       0.0          5.6      10.7   \n",
       "\n",
       "      WindGustDir  WindGustSpeed WindDir9am  ... Humidity9am  Humidity3pm  \\\n",
       "0             SSW           48.0        ENE  ...        20.0         13.0   \n",
       "1               S           37.0        SSE  ...        30.0          8.0   \n",
       "2             NNE           46.0        NNE  ...        42.0         22.0   \n",
       "3             WNW           31.0        WNW  ...        37.0         22.0   \n",
       "4             WNW           35.0         NW  ...        19.0         15.0   \n",
       "...           ...            ...        ...  ...         ...          ...   \n",
       "56415         ENE           35.0         SE  ...        63.0         32.0   \n",
       "56416           E           37.0         SE  ...        56.0         28.0   \n",
       "56417           E           33.0          E  ...        46.0         23.0   \n",
       "56418         ESE           26.0         SE  ...        62.0         58.0   \n",
       "56419         ENE           30.0        ENE  ...        73.0         32.0   \n",
       "\n",
       "       Pressure9am  Pressure3pm  Cloud9am  Cloud3pm  Temp9am  Temp3pm  \\\n",
       "0           1006.3       1004.4       2.0       5.0     26.6     33.4   \n",
       "1           1012.9       1012.1       1.0       1.0     20.3     27.0   \n",
       "2           1012.3       1009.2       1.0       6.0     28.7     34.9   \n",
       "3           1012.7       1009.1       1.0       5.0     29.1     35.6   \n",
       "4           1010.7       1007.4       1.0       6.0     33.6     37.6   \n",
       "...            ...          ...       ...       ...      ...      ...   \n",
       "56415       1013.9       1010.5       0.0       1.0     24.5     32.3   \n",
       "56416       1014.6       1011.2       7.0       0.0     24.8     32.0   \n",
       "56417       1015.3       1011.8       0.0       0.0     24.8     32.1   \n",
       "56418       1014.9       1010.7       1.0       1.0     24.8     29.2   \n",
       "56419       1013.9       1009.7       6.0       5.0     25.4     31.0   \n",
       "\n",
       "       RainToday  RainTomorrow  \n",
       "0             No            No  \n",
       "1             No            No  \n",
       "2             No            No  \n",
       "3             No            No  \n",
       "4             No            No  \n",
       "...          ...           ...  \n",
       "56415         No            No  \n",
       "56416         No            No  \n",
       "56417         No            No  \n",
       "56418         No            No  \n",
       "56419         No            No  \n",
       "\n",
       "[56420 rows x 23 columns]"
      ]
     },
     "execution_count": 3,
     "metadata": {},
     "output_type": "execute_result"
    }
   ],
   "source": [
    "weather_df = pd.read_csv(\"https://raw.githubusercontent.com/stanford-mse-125/homework/main/data/weather.csv\")\n",
    "weather_df = weather_df.dropna().reset_index(drop=True)\n",
    "weather_df"
   ]
  },
  {
   "attachments": {},
   "cell_type": "markdown",
   "metadata": {},
   "source": [
    "**Part (a)**: Build a logistic regression model to predict `RainTomorrow` from `MinTemp` and `MaxTemp` as well as `Rainfall` from the current day. Interpret the coefficient for `RainFall` in the context of the problem."
   ]
  },
  {
   "cell_type": "code",
   "execution_count": 8,
   "metadata": {},
   "outputs": [
    {
     "name": "stdout",
     "output_type": "stream",
     "text": [
      "Optimization terminated successfully.\n",
      "         Current function value: 0.450694\n",
      "         Iterations 6\n"
     ]
    },
    {
     "data": {
      "text/html": [
       "<table class=\"simpletable\">\n",
       "<caption>Logit Regression Results</caption>\n",
       "<tr>\n",
       "  <th>Dep. Variable:</th>           <td>y</td>        <th>  No. Observations:  </th>  <td> 56420</td> \n",
       "</tr>\n",
       "<tr>\n",
       "  <th>Model:</th>                 <td>Logit</td>      <th>  Df Residuals:      </th>  <td> 56416</td> \n",
       "</tr>\n",
       "<tr>\n",
       "  <th>Method:</th>                 <td>MLE</td>       <th>  Df Model:          </th>  <td>     3</td> \n",
       "</tr>\n",
       "<tr>\n",
       "  <th>Date:</th>            <td>Tue, 30 May 2023</td> <th>  Pseudo R-squ.:     </th>  <td>0.1452</td> \n",
       "</tr>\n",
       "<tr>\n",
       "  <th>Time:</th>                <td>13:31:15</td>     <th>  Log-Likelihood:    </th> <td> -25428.</td>\n",
       "</tr>\n",
       "<tr>\n",
       "  <th>converged:</th>             <td>True</td>       <th>  LL-Null:           </th> <td> -29747.</td>\n",
       "</tr>\n",
       "<tr>\n",
       "  <th>Covariance Type:</th>     <td>nonrobust</td>    <th>  LLR p-value:       </th>  <td> 0.000</td> \n",
       "</tr>\n",
       "</table>\n",
       "<table class=\"simpletable\">\n",
       "<tr>\n",
       "      <td></td>         <th>coef</th>     <th>std err</th>      <th>z</th>      <th>P>|z|</th>  <th>[0.025</th>    <th>0.975]</th>  \n",
       "</tr>\n",
       "<tr>\n",
       "  <th>Intercept</th> <td>    0.5482</td> <td>    0.043</td> <td>   12.785</td> <td> 0.000</td> <td>    0.464</td> <td>    0.632</td>\n",
       "</tr>\n",
       "<tr>\n",
       "  <th>MinTemp</th>   <td>    0.1969</td> <td>    0.003</td> <td>   59.901</td> <td> 0.000</td> <td>    0.190</td> <td>    0.203</td>\n",
       "</tr>\n",
       "<tr>\n",
       "  <th>MaxTemp</th>   <td>   -0.2006</td> <td>    0.003</td> <td>  -63.767</td> <td> 0.000</td> <td>   -0.207</td> <td>   -0.194</td>\n",
       "</tr>\n",
       "<tr>\n",
       "  <th>Rainfall</th>  <td>    0.0561</td> <td>    0.002</td> <td>   31.647</td> <td> 0.000</td> <td>    0.053</td> <td>    0.060</td>\n",
       "</tr>\n",
       "</table>"
      ],
      "text/plain": [
       "<class 'statsmodels.iolib.summary.Summary'>\n",
       "\"\"\"\n",
       "                           Logit Regression Results                           \n",
       "==============================================================================\n",
       "Dep. Variable:                      y   No. Observations:                56420\n",
       "Model:                          Logit   Df Residuals:                    56416\n",
       "Method:                           MLE   Df Model:                            3\n",
       "Date:                Tue, 30 May 2023   Pseudo R-squ.:                  0.1452\n",
       "Time:                        13:31:15   Log-Likelihood:                -25428.\n",
       "converged:                       True   LL-Null:                       -29747.\n",
       "Covariance Type:            nonrobust   LLR p-value:                     0.000\n",
       "==============================================================================\n",
       "                 coef    std err          z      P>|z|      [0.025      0.975]\n",
       "------------------------------------------------------------------------------\n",
       "Intercept      0.5482      0.043     12.785      0.000       0.464       0.632\n",
       "MinTemp        0.1969      0.003     59.901      0.000       0.190       0.203\n",
       "MaxTemp       -0.2006      0.003    -63.767      0.000      -0.207      -0.194\n",
       "Rainfall       0.0561      0.002     31.647      0.000       0.053       0.060\n",
       "==============================================================================\n",
       "\"\"\""
      ]
     },
     "execution_count": 8,
     "metadata": {},
     "output_type": "execute_result"
    }
   ],
   "source": [
    "# Make binary variable for outcome\n",
    "weather_df[\"y\"] = np.where(weather_df[\"RainTomorrow\"] == \"Yes\", 1, 0)\n",
    "\n",
    "# Fit logistic regression model using statsmodels\n",
    "model = smf.logit(\"y ~ MinTemp + MaxTemp + Rainfall\", data=weather_df).fit()\n",
    "model.summary()"
   ]
  },
  {
   "attachments": {},
   "cell_type": "markdown",
   "metadata": {},
   "source": [
    "The coefficient for Rainfall is about 0.06. This means that for each additional unit of rain today, and log odds of whether or not it will rain tomorrow increases by 0.06, keeping MaxTemp and MinTemp constant."
   ]
  },
  {
   "attachments": {},
   "cell_type": "markdown",
   "metadata": {},
   "source": [
    "**Part (b)**: You really hate when you expect it not to rain and then it actually does. Specifically, you decide that a false negative error, i.e. predicting it won't rain when it does, is 3 times worse than a false positive, i.e. predicting it will rain when it doesn't. Use the ROC curve to find the *optimal threshold* for this setting using the gives costs for false positive and false negatives. \n",
    "\n",
    "As a guide, you should:\n",
    "1) Fix a thresold $t$.\n",
    "2) Compute model predictions using the given threshold $t$.\n",
    "3) Compute the false positive rate (fpr) and the false negative rate (fnr) using the predictions from 2).\n",
    "4) Compute the *cost* of the threshold as $1 \\cdot fpr  + 3 \\cdot fnr$.\n",
    "5) Repeat 1) - 4) for many thresholds $t \\in [0, 1]$, and find the threshold that minimizes the cost.\n",
    "\n",
    "Output the optimal threshold, as well as a plot which compares threshold vs cost."
   ]
  },
  {
   "cell_type": "code",
   "execution_count": 9,
   "metadata": {},
   "outputs": [
    {
     "name": "stdout",
     "output_type": "stream",
     "text": [
      "0.07163636363636364\n"
     ]
    },
    {
     "data": {
      "text/plain": [
       "<Axes: xlabel='threshold', ylabel='cost'>"
      ]
     },
     "execution_count": 9,
     "metadata": {},
     "output_type": "execute_result"
    },
    {
     "data": {
      "image/png": "[encoded data removed]",
      "text/plain": [
       "<Figure size 640x480 with 1 Axes>"
      ]
     },
     "metadata": {},
     "output_type": "display_data"
    }
   ],
   "source": [
    "from sklearn.metrics import confusion_matrix\n",
    "thresholds = np.linspace(0.001, 1, 100)\n",
    "costs = []\n",
    "for threshold in thresholds:\n",
    "    # Compute predictions\n",
    "    y_pred = model.predict(weather_df) >= threshold\n",
    "\n",
    "    # Compute confusion matrix\n",
    "    cm = confusion_matrix(weather_df[\"y\"], y_pred)\n",
    "    tp = cm[1, 1]\n",
    "    tn = cm[0, 0]\n",
    "    fp = cm[0, 1]\n",
    "    fn = cm[1, 0]\n",
    "    fpr = fp / (fp + tn)\n",
    "    fnr = fn / (fn + tp)\n",
    "    cost = fpr + 3 * fnr\n",
    "    costs.append(cost)\n",
    "\n",
    "opt_threshold = thresholds[np.argmin(costs)]\n",
    "print(opt_threshold)\n",
    "df = pd.DataFrame({\"threshold\": thresholds, \"cost\": costs})\n",
    "sns.lineplot(data=df, x=\"threshold\", y=\"cost\")"
   ]
  },
  {
   "cell_type": "code",
   "execution_count": 10,
   "metadata": {},
   "outputs": [
    {
     "name": "stdout",
     "output_type": "stream",
     "text": [
      "0.0790158394356018\n"
     ]
    },
    {
     "data": {
      "text/plain": [
       "<Axes: xlabel='threshold', ylabel='cost'>"
      ]
     },
     "execution_count": 10,
     "metadata": {},
     "output_type": "execute_result"
    },
    {
     "data": {
      "image/png": "[encoded data removed]",
      "text/plain": [
       "<Figure size 640x480 with 1 Axes>"
      ]
     },
     "metadata": {},
     "output_type": "display_data"
    }
   ],
   "source": [
    "# Also can use sklearn's roc_curve function\n",
    "from sklearn.metrics import roc_curve\n",
    "fpr, tpr, thresholds = roc_curve(weather_df[\"y\"], model.predict(weather_df))\n",
    "costs = fpr + 3 * (1 - tpr)\n",
    "opt_threshold = thresholds[np.argmin(costs)]\n",
    "print(opt_threshold)\n",
    "df = pd.DataFrame({\"threshold\": thresholds, \"cost\": costs})\n",
    "sns.lineplot(data=df, x=\"threshold\", y=\"cost\")"
   ]
  },
  {
   "attachments": {},
   "cell_type": "markdown",
   "metadata": {},
   "source": [
    "**Part (c)**: One metric that is used sometimes when false negatives and false positives have different costs is the [F-beta score](https://scikit-learn.org/stable/modules/generated/sklearn.metrics.fbeta_score.html#:~:text=Compute%20the%20F%2Dbeta%20score,recall%20in%20the%20combined%20score.), which generalizes the F1 score. Using $\\beta = 3$ and the optimal threshold determined in part (b), find the out-of-sample F-beta score using 5-fold cross validation for the given model."
   ]
  },
  {
   "cell_type": "code",
   "execution_count": 63,
   "metadata": {},
   "outputs": [
    {
     "name": "stdout",
     "output_type": "stream",
     "text": [
      "Optimization terminated successfully.\n",
      "         Current function value: 0.450694\n",
      "         Iterations 6\n",
      "Optimization terminated successfully.\n",
      "         Current function value: 0.450694\n",
      "         Iterations 6\n",
      "Optimization terminated successfully.\n",
      "         Current function value: 0.450694\n",
      "         Iterations 6\n",
      "Optimization terminated successfully.\n",
      "         Current function value: 0.450694\n",
      "         Iterations 6\n",
      "Optimization terminated successfully.\n",
      "         Current function value: 0.450694\n",
      "         Iterations 6\n"
     ]
    },
    {
     "data": {
      "text/plain": [
       "0.7452029675834287"
      ]
     },
     "execution_count": 63,
     "metadata": {},
     "output_type": "execute_result"
    }
   ],
   "source": [
    "from sklearn.metrics import fbeta_score\n",
    "\n",
    "# Using statsmodels\n",
    "folds = np.array_split(weather_df, 5)\n",
    "score_list = []\n",
    "for i in range(5):\n",
    "    val_df = folds[i]\n",
    "    train_df = pd.concat(folds[:i] + folds[i+1:])\n",
    "    model = smf.logit(\"y ~ MinTemp + MaxTemp + Rainfall\", data=weather_df).fit()\n",
    "    \n",
    "    # use sklearn to calculate fbeta score\n",
    "    y_pred = model.predict(val_df) >= opt_threshold\n",
    "\n",
    "    score = fbeta_score(val_df[\"y\"], y_pred, beta=3)\n",
    "    score_list.append(score)\n",
    "\n",
    "np.mean(score_list)"
   ]
  },
  {
   "cell_type": "code",
   "execution_count": 62,
   "metadata": {},
   "outputs": [
    {
     "data": {
      "text/plain": [
       "0.7445503635948103"
      ]
     },
     "execution_count": 62,
     "metadata": {},
     "output_type": "execute_result"
    }
   ],
   "source": [
    "# Alternative solution using sklearn\n",
    "from sklearn.model_selection import cross_val_score\n",
    "from sklearn.linear_model import LogisticRegression\n",
    "from sklearn.metrics import make_scorer\n",
    "\n",
    "def custom_fbeta_score(y, y_pred, **kwargs):\n",
    "    return fbeta_score(y, y_pred >= opt_threshold, beta=3)\n",
    "scorer = make_scorer(custom_fbeta_score, needs_proba=True)\n",
    "\n",
    "model = LogisticRegression(penalty=None)\n",
    "np.mean(cross_val_score(model, weather_df[[\"MinTemp\", \"MaxTemp\", \"Rainfall\"]], weather_df[\"y\"], scoring=scorer, cv=5))"
   ]
  }
 ],
 "metadata": {
  "kernelspec": {
   "display_name": "Python 3",
   "language": "python",
   "name": "python3"
  },
  "language_info": {
   "codemirror_mode": {
    "name": "ipython",
    "version": 3
   },
   "file_extension": ".py",
   "mimetype": "text/x-python",
   "name": "python",
   "nbconvert_exporter": "python",
   "pygments_lexer": "ipython3",
   "version": "3.11.2"
  }
 },
 "nbformat": 4,
 "nbformat_minor": 2
}
