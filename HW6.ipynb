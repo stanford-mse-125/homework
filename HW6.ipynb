{
 "cells": [
  {
   "cell_type": "markdown",
   "metadata": {},
   "source": [
    "# Homework 6: More Linear Regression\n",
    "\n",
    "**Due**: Tuesday May 16th\n",
    "\n",
    "### HW Logistics\n",
    "\n",
    "- **Release**: Every week there will be a HW assignment released on *Wednesday* and due the following *Tuesday at 11:59pm*. \n",
    "Homework will be posted to the course website. \n",
    "- **Format**: We expect students to complete the homework notebooks using Google Colab (see Discussion 1), but this is not explicitly required and you may use whatever software you would like to run notebooks. \n",
    "- **Answers**: As a general guiding policy, you should always try to make it as clear as possible what your answer to each question is, and how you arrived at your answer. Generally speaking, this will mean including all code used to generate results, outputting the actual results to the notebook, and (when necessary) including written answers to support your code.\n",
    "- **Submission**: Homeworks will be *submitted to Gradescope*, and we expect all students to do question matching on Gradescope upon submission.\n",
    "- **Late Policy**: All students are allowed 7 total slip days for the quarter, and at most 5 can be used for a single HW assignment. There will be no late credit if you have used up all your slip days. Also, your lowest HW grade will be dropped."
   ]
  },
  {
   "cell_type": "code",
   "execution_count": 9,
   "metadata": {},
   "outputs": [],
   "source": [
    "import numpy as np \n",
    "import pandas as pd\n",
    "import matplotlib.pyplot as plt\n",
    "import seaborn as sns\n",
    "import statsmodels.api as sm\n",
    "import statsmodels.formula.api as smf\n",
    "import patsy\n",
    "sns.set_style()"
   ]
  },
  {
   "cell_type": "markdown",
   "metadata": {},
   "source": [
    "## Question 1: Multiple Linear Regression\n",
    "\n",
    "Let's return to the used cars dataset from HW5."
   ]
  },
  {
   "cell_type": "code",
   "execution_count": 3,
   "metadata": {},
   "outputs": [],
   "source": [
    "cars_df = pd.read_csv(\"https://raw.githubusercontent.com/stanford-mse-125/homework/main/data/used_cars.csv\")"
   ]
  },
  {
   "cell_type": "markdown",
   "metadata": {},
   "source": [
    "**Part (a)**: Fit a linear regression model which predicts price from both mileage and the year of a Honda Accord. Print out the summary of this model, write out the estimated regression equation, and interpret the estimated coefficient for mileage."
   ]
  },
  {
   "cell_type": "markdown",
   "metadata": {},
   "source": [
    "**Part (b)**: Now fit a linear model predicting price just from mileage (as in HW5). Compare the estimated coefficient for mileage in this model compared to the model from part (a). Is there a noticeable difference in the estimated coefficient values? If so, why might this be the case?"
   ]
  },
  {
   "cell_type": "markdown",
   "metadata": {},
   "source": [
    "**Part (c)** Use your models from part (a) and (b) to make two predictions for the value of a 2012 Accord with 50,000 miles. Compare these predictions, explaining why they are significantly different or why they are close to the same."
   ]
  },
  {
   "cell_type": "markdown",
   "metadata": {},
   "source": [
    "## Question 2: Categorical Variables\n",
    "\n",
    "Another feature that can impact the price of a car is the \"trim\" of the car. That is, for a given car model, e.g. a Honda Accord, there are often several different variations or trims of the same car model that have different features."
   ]
  },
  {
   "cell_type": "markdown",
   "metadata": {},
   "source": [
    "**Part (a)**: Make a plot to visualize the relationship between trim and price in the Accord data. Does it look like trim has a significant effect on price?"
   ]
  },
  {
   "cell_type": "markdown",
   "metadata": {},
   "source": [
    "**Part (b)** Fit a linear model which predicts Accord price from mileage, year, and trim. Interpret the coefficient for the \"LX\" trim. Which trims have significant coefficients, and is this surprising?"
   ]
  },
  {
   "cell_type": "markdown",
   "metadata": {},
   "source": [
    "**Part (c)** You hypothesize that some Accord trims degrade in value faster than others as more miles are put on the car. Fit a new linear model that adds new term(s) to your model from part (b) to address this hypothesis. Print out a summary of this model fit. Does your hypothesis appear to be true? (Hint: you might find it helpful to refer to Discussion 6 :) ). "
   ]
  },
  {
   "cell_type": "markdown",
   "metadata": {},
   "source": [
    "**Part (d)**: Give an interpretation for one of the new coefficients you added to the model from part (c)."
   ]
  },
  {
   "cell_type": "markdown",
   "metadata": {},
   "source": [
    "## Question 3: Polynomial Regression\n",
    "\n",
    "**Part (a)** Subset the cars data to now include all Hondas, regardless of model, and make a scatterplot comparing mileage and price in this new data. Based on your plot (and perhaps also your knowledge about cars), does it look reasonable to say that mileage and price are related linearly? "
   ]
  },
  {
   "cell_type": "markdown",
   "metadata": {},
   "source": [
    "**Part (b)** Test your rationale from part (a) by fitting a quadratic model predicting price from mileage. Print the model summary, and show the scatterplot from part (a) with your regression curve added."
   ]
  },
  {
   "cell_type": "markdown",
   "metadata": {},
   "source": [
    "**Part (c)**: Is the quadratic model a better model than the linear model with only mileage (i.e. the model from Q1b)? Justify your answer with appropriate model outputs."
   ]
  }
 ],
 "metadata": {
  "kernelspec": {
   "display_name": "Python 3",
   "language": "python",
   "name": "python3"
  },
  "language_info": {
   "codemirror_mode": {
    "name": "ipython",
    "version": 3
   },
   "file_extension": ".py",
   "mimetype": "text/x-python",
   "name": "python",
   "nbconvert_exporter": "python",
   "pygments_lexer": "ipython3",
   "version": "3.8.8"
  },
  "vscode": {
   "interpreter": {
    "hash": "aee8b7b246df8f9039afb4144a1f6fd8d2ca17a180786b69acc140d282b71a49"
   }
  }
 },
 "nbformat": 4,
 "nbformat_minor": 2
}
