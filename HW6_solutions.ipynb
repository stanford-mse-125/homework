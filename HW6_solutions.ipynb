{
 "cells": [
  {
   "attachments": {},
   "cell_type": "markdown",
   "metadata": {},
   "source": [
    "# Homework 6: More Linear Regression\n",
    "\n",
    "**Due**: Tuesday May 16th\n",
    "\n",
    "### HW Logistics\n",
    "\n",
    "- **Release**: Every week there will be a HW assignment released on *Wednesday* and due the following *Tuesday at 11:59pm*. \n",
    "Homework will be posted to the course website. \n",
    "- **Format**: We expect students to complete the homework notebooks using Google Colab (see Discussion 1), but this is not explicitly required and you may use whatever software you would like to run notebooks. \n",
    "- **Answers**: As a general guiding policy, you should always try to make it as clear as possible what your answer to each question is, and how you arrived at your answer. Generally speaking, this will mean including all code used to generate results, outputting the actual results to the notebook, and (when necessary) including written answers to support your code.\n",
    "- **Submission**: Homeworks will be *submitted to Gradescope*, and we expect all students to do question matching on Gradescope upon submission.\n",
    "- **Late Policy**: All students are allowed 7 total slip days for the quarter, and at most 5 can be used for a single HW assignment. There will be no late credit if you have used up all your slip days. Also, your lowest HW grade will be dropped."
   ]
  },
  {
   "cell_type": "code",
   "execution_count": 9,
   "metadata": {},
   "outputs": [],
   "source": [
    "import numpy as np \n",
    "import pandas as pd\n",
    "import matplotlib.pyplot as plt\n",
    "import seaborn as sns\n",
    "import statsmodels.api as sm\n",
    "import statsmodels.formula.api as smf\n",
    "import patsy\n",
    "sns.set_style()"
   ]
  },
  {
   "attachments": {},
   "cell_type": "markdown",
   "metadata": {},
   "source": [
    "## Question 1: Multiple Linear Regression\n",
    "\n",
    "Let's return to the used cars dataset from HW5."
   ]
  },
  {
   "cell_type": "code",
   "execution_count": 3,
   "metadata": {},
   "outputs": [],
   "source": [
    "cars_df = pd.read_csv(\"https://raw.githubusercontent.com/stanford-mse-125/homework/main/data/used_cars.csv\")"
   ]
  },
  {
   "attachments": {},
   "cell_type": "markdown",
   "metadata": {},
   "source": [
    "**Part (a)**: Fit a linear regression model which predicts price from both mileage and the year of a Honda Accord. Print out the summary of this model, write out the estimated regression equation, and interpret the estimated coefficient for mileage."
   ]
  },
  {
   "cell_type": "code",
   "execution_count": 7,
   "metadata": {},
   "outputs": [
    {
     "name": "stdout",
     "output_type": "stream",
     "text": [
      "                            OLS Regression Results                            \n",
      "==============================================================================\n",
      "Dep. Variable:                  price   R-squared:                       0.839\n",
      "Model:                            OLS   Adj. R-squared:                  0.836\n",
      "Method:                 Least Squares   F-statistic:                     309.3\n",
      "Date:                Tue, 09 May 2023   Prob (F-statistic):           7.29e-48\n",
      "Time:                        10:54:55   Log-Likelihood:                -1094.5\n",
      "No. Observations:                 122   AIC:                             2195.\n",
      "Df Residuals:                     119   BIC:                             2204.\n",
      "Df Model:                           2                                         \n",
      "Covariance Type:            nonrobust                                         \n",
      "==============================================================================\n",
      "                 coef    std err          t      P>|t|      [0.025      0.975]\n",
      "------------------------------------------------------------------------------\n",
      "const      -1.424e+06   1.73e+05     -8.232      0.000   -1.77e+06   -1.08e+06\n",
      "mileage       -0.0396      0.007     -5.762      0.000      -0.053      -0.026\n",
      "year         717.2773     85.883      8.352      0.000     547.221     887.334\n",
      "==============================================================================\n",
      "Omnibus:                       19.053   Durbin-Watson:                   1.778\n",
      "Prob(Omnibus):                  0.000   Jarque-Bera (JB):               26.156\n",
      "Skew:                           0.815   Prob(JB):                     2.09e-06\n",
      "Kurtosis:                       4.577   Cond. No.                     8.41e+07\n",
      "==============================================================================\n",
      "\n",
      "Notes:\n",
      "[1] Standard Errors assume that the covariance matrix of the errors is correctly specified.\n",
      "[2] The condition number is large, 8.41e+07. This might indicate that there are\n",
      "strong multicollinearity or other numerical problems.\n"
     ]
    }
   ],
   "source": [
    "accord_df = cars_df[cars_df[\"model\"] == \"Accord\"]\n",
    "\n",
    "X = sm.add_constant(accord_df[[\"mileage\", \"year\"]])\n",
    "y = accord_df[\"price\"]\n",
    "lm = sm.OLS(y, X).fit()\n",
    "print(lm.summary())"
   ]
  },
  {
   "attachments": {},
   "cell_type": "markdown",
   "metadata": {},
   "source": [
    "The regression equation is \n",
    "\n",
    "<center>\n",
    "Predicted Price = -1,424,000 - 0.0396 mileage + 717.2773 year.\n",
    "</center>\n",
    "\n",
    "$\\hat{\\beta}_{mileage} = -0.0396$ means that for every additional mile an Accord is driven, we estimate that the price will decrease by about 4 cents, for accords of the same year."
   ]
  },
  {
   "attachments": {},
   "cell_type": "markdown",
   "metadata": {},
   "source": [
    "**Part (b)**: Now fit a linear model predicting price just from mileage (as in HW5). Compare the estimated coefficient for mileage in this model compared to the model from part (a). Is there a noticeable difference in the estimated coefficient values? If so, why might this be the case?"
   ]
  },
  {
   "cell_type": "code",
   "execution_count": 6,
   "metadata": {},
   "outputs": [
    {
     "name": "stdout",
     "output_type": "stream",
     "text": [
      "                            OLS Regression Results                            \n",
      "==============================================================================\n",
      "Dep. Variable:                  price   R-squared:                       0.744\n",
      "Model:                            OLS   Adj. R-squared:                  0.742\n",
      "Method:                 Least Squares   F-statistic:                     348.9\n",
      "Date:                Tue, 09 May 2023   Prob (F-statistic):           2.58e-37\n",
      "Time:                        10:54:53   Log-Likelihood:                -1122.7\n",
      "No. Observations:                 122   AIC:                             2249.\n",
      "Df Residuals:                     120   BIC:                             2255.\n",
      "Df Model:                           1                                         \n",
      "Covariance Type:            nonrobust                                         \n",
      "==============================================================================\n",
      "                 coef    std err          t      P>|t|      [0.025      0.975]\n",
      "------------------------------------------------------------------------------\n",
      "const       2.068e+04    399.474     51.757      0.000    1.99e+04    2.15e+04\n",
      "mileage       -0.0878      0.005    -18.678      0.000      -0.097      -0.079\n",
      "==============================================================================\n",
      "Omnibus:                       11.055   Durbin-Watson:                   1.914\n",
      "Prob(Omnibus):                  0.004   Jarque-Bera (JB):               25.418\n",
      "Skew:                           0.215   Prob(JB):                     3.02e-06\n",
      "Kurtosis:                       5.194   Cond. No.                     1.55e+05\n",
      "==============================================================================\n",
      "\n",
      "Notes:\n",
      "[1] Standard Errors assume that the covariance matrix of the errors is correctly specified.\n",
      "[2] The condition number is large, 1.55e+05. This might indicate that there are\n",
      "strong multicollinearity or other numerical problems.\n"
     ]
    }
   ],
   "source": [
    "X = sm.add_constant(accord_df[[\"mileage\"]])\n",
    "y = accord_df[\"price\"]\n",
    "lm2 = sm.OLS(y, X).fit()\n",
    "print(lm2.summary())"
   ]
  },
  {
   "attachments": {},
   "cell_type": "markdown",
   "metadata": {},
   "source": [
    "The coefficient for mileage in this model is about -0.04, whereas the coefficient in the previous model was around -0.09, which is noticeably smaller. This is because after controlling for year, additional mileage on a Honda Accord does not diminish value as much. One explanation for this is that when not controlling for year, an Accord with additional mileage also likely is an older model year, which makes the effect of additional mileage more severe in the model."
   ]
  },
  {
   "attachments": {},
   "cell_type": "markdown",
   "metadata": {},
   "source": [
    "**Part (c)** Use your models from part (a) and (b) to make two predictions for the value of a 2012 Accord with 50,000 miles. Compare these predictions, explaining why they are significantly different or why they are close to the same."
   ]
  },
  {
   "cell_type": "code",
   "execution_count": 8,
   "metadata": {},
   "outputs": [
    {
     "name": "stdout",
     "output_type": "stream",
     "text": [
      "Predicted price without year: $16285.2\n",
      "Predicted price with year: $17523.05\n"
     ]
    }
   ],
   "source": [
    "pred_without_year = lm2.predict(np.array([[1, 50000]]))[0]\n",
    "print(f\"Predicted price without year: ${np.round(pred_without_year, 2)}\")\n",
    "\n",
    "pred_with_year = lm.predict(np.array([[1, 50000, 2012]]))[0]\n",
    "print(f\"Predicted price with year: ${np.round(pred_with_year, 2)}\")"
   ]
  },
  {
   "attachments": {},
   "cell_type": "markdown",
   "metadata": {},
   "source": [
    "The model which uses year predicts a significantly larger price. This is expected, because the mean year for an Accord in this data set is about 2008, whereas we are predicting for a model 2012 Accord. Thus, accounting for year should increase the prediction because price and year are positively correlated and 2012 is larger than the mean year from the data set."
   ]
  },
  {
   "attachments": {},
   "cell_type": "markdown",
   "metadata": {},
   "source": [
    "## Question 2: Categorical Variables\n",
    "\n",
    "Another feature that can impact the price of a car is the \"trim\" of the car. That is, for a given car model, e.g. a Honda Accord, there are often several different variations or trims of the same car model that have different features."
   ]
  },
  {
   "attachments": {},
   "cell_type": "markdown",
   "metadata": {},
   "source": [
    "**Part (a)**: Make a plot to visualize the relationship between trim and price in the Accord data. Does it look like trim has a significant effect on price?"
   ]
  },
  {
   "cell_type": "code",
   "execution_count": 3,
   "metadata": {},
   "outputs": [
    {
     "data": {
      "text/plain": [
       "<AxesSubplot:xlabel='trim', ylabel='price'>"
      ]
     },
     "execution_count": 3,
     "metadata": {},
     "output_type": "execute_result"
    },
    {
     "data": {
      "image/png": "[encoded data removed]",
      "text/plain": [
       "<Figure size 1080x360 with 1 Axes>"
      ]
     },
     "metadata": {},
     "output_type": "display_data"
    }
   ],
   "source": [
    "cars_df = pd.read_csv(\"data/used_cars.csv\")\n",
    "accord_df = cars_df[cars_df[\"model\"] == \"Accord\"]\n",
    "\n",
    "# Some options are strip plot, box plot, violin plot\n",
    "plt.figure(figsize=(15, 5))\n",
    "sns.boxplot(data=accord_df, x=\"trim\", y=\"price\")"
   ]
  },
  {
   "attachments": {},
   "cell_type": "markdown",
   "metadata": {},
   "source": [
    "**Part (b)** Fit a linear model which predicts Accord price from mileage, year, and trim. Interpret the coefficient for the \"LX\" trim. Which trims have significant coefficients, and is this surprising?"
   ]
  },
  {
   "cell_type": "code",
   "execution_count": 10,
   "metadata": {},
   "outputs": [
    {
     "data": {
      "text/html": [
       "<table class=\"simpletable\">\n",
       "<caption>OLS Regression Results</caption>\n",
       "<tr>\n",
       "  <th>Dep. Variable:</th>          <td>price</td>      <th>  R-squared:         </th> <td>   0.918</td>\n",
       "</tr>\n",
       "<tr>\n",
       "  <th>Model:</th>                   <td>OLS</td>       <th>  Adj. R-squared:    </th> <td>   0.907</td>\n",
       "</tr>\n",
       "<tr>\n",
       "  <th>Method:</th>             <td>Least Squares</td>  <th>  F-statistic:       </th> <td>   79.25</td>\n",
       "</tr>\n",
       "<tr>\n",
       "  <th>Date:</th>             <td>Tue, 09 May 2023</td> <th>  Prob (F-statistic):</th> <td>1.93e-50</td>\n",
       "</tr>\n",
       "<tr>\n",
       "  <th>Time:</th>                 <td>12:25:49</td>     <th>  Log-Likelihood:    </th> <td> -1053.2</td>\n",
       "</tr>\n",
       "<tr>\n",
       "  <th>No. Observations:</th>      <td>   122</td>      <th>  AIC:               </th> <td>   2138.</td>\n",
       "</tr>\n",
       "<tr>\n",
       "  <th>Df Residuals:</th>          <td>   106</td>      <th>  BIC:               </th> <td>   2183.</td>\n",
       "</tr>\n",
       "<tr>\n",
       "  <th>Df Model:</th>              <td>    15</td>      <th>                     </th>     <td> </td>   \n",
       "</tr>\n",
       "<tr>\n",
       "  <th>Covariance Type:</th>      <td>nonrobust</td>    <th>                     </th>     <td> </td>   \n",
       "</tr>\n",
       "</table>\n",
       "<table class=\"simpletable\">\n",
       "<tr>\n",
       "               <td></td>                 <th>coef</th>     <th>std err</th>      <th>t</th>      <th>P>|t|</th>  <th>[0.025</th>    <th>0.975]</th>  \n",
       "</tr>\n",
       "<tr>\n",
       "  <th>Intercept</th>                  <td>-1.566e+06</td> <td> 1.56e+05</td> <td>  -10.064</td> <td> 0.000</td> <td>-1.87e+06</td> <td>-1.26e+06</td>\n",
       "</tr>\n",
       "<tr>\n",
       "  <th>trim[T.EX V-6]</th>             <td> 1411.5605</td> <td>  528.563</td> <td>    2.671</td> <td> 0.009</td> <td>  363.633</td> <td> 2459.488</td>\n",
       "</tr>\n",
       "<tr>\n",
       "  <th>trim[T.EX V6]</th>              <td>   -3.0493</td> <td> 1020.812</td> <td>   -0.003</td> <td> 0.998</td> <td>-2026.907</td> <td> 2020.809</td>\n",
       "</tr>\n",
       "<tr>\n",
       "  <th>trim[T.EX-L]</th>               <td> 1397.4306</td> <td>  624.776</td> <td>    2.237</td> <td> 0.027</td> <td>  158.751</td> <td> 2636.110</td>\n",
       "</tr>\n",
       "<tr>\n",
       "  <th>trim[T.EX-L V-6]</th>           <td> 2455.8995</td> <td>  500.578</td> <td>    4.906</td> <td> 0.000</td> <td> 1463.455</td> <td> 3448.344</td>\n",
       "</tr>\n",
       "<tr>\n",
       "  <th>trim[T.Hybrid]</th>             <td> 2204.4900</td> <td>  825.966</td> <td>    2.669</td> <td> 0.009</td> <td>  566.931</td> <td> 3842.049</td>\n",
       "</tr>\n",
       "<tr>\n",
       "  <th>trim[T.LX]</th>                 <td>-1277.7089</td> <td>  452.562</td> <td>   -2.823</td> <td> 0.006</td> <td>-2174.958</td> <td> -380.460</td>\n",
       "</tr>\n",
       "<tr>\n",
       "  <th>trim[T.LX Special Edition]</th> <td> -723.3480</td> <td> 1512.071</td> <td>   -0.478</td> <td> 0.633</td> <td>-3721.175</td> <td> 2274.479</td>\n",
       "</tr>\n",
       "<tr>\n",
       "  <th>trim[T.LX V-6]</th>             <td>-1010.0084</td> <td> 1509.472</td> <td>   -0.669</td> <td> 0.505</td> <td>-4002.683</td> <td> 1982.667</td>\n",
       "</tr>\n",
       "<tr>\n",
       "  <th>trim[T.LX-P]</th>               <td> -659.3543</td> <td>  923.379</td> <td>   -0.714</td> <td> 0.477</td> <td>-2490.042</td> <td> 1171.333</td>\n",
       "</tr>\n",
       "<tr>\n",
       "  <th>trim[T.LX-S]</th>               <td> -611.3303</td> <td>  677.616</td> <td>   -0.902</td> <td> 0.369</td> <td>-1954.770</td> <td>  732.109</td>\n",
       "</tr>\n",
       "<tr>\n",
       "  <th>trim[T.SE]</th>                 <td>  408.7942</td> <td>  563.452</td> <td>    0.726</td> <td> 0.470</td> <td> -708.304</td> <td> 1525.893</td>\n",
       "</tr>\n",
       "<tr>\n",
       "  <th>trim[T.Special Edition]</th>    <td>-1751.4813</td> <td> 1516.344</td> <td>   -1.155</td> <td> 0.251</td> <td>-4757.781</td> <td> 1254.818</td>\n",
       "</tr>\n",
       "<tr>\n",
       "  <th>trim[T.Value Package]</th>      <td>-2202.5195</td> <td> 1545.618</td> <td>   -1.425</td> <td> 0.157</td> <td>-5266.858</td> <td>  861.819</td>\n",
       "</tr>\n",
       "<tr>\n",
       "  <th>mileage</th>                    <td>   -0.0379</td> <td>    0.006</td> <td>   -6.858</td> <td> 0.000</td> <td>   -0.049</td> <td>   -0.027</td>\n",
       "</tr>\n",
       "<tr>\n",
       "  <th>year</th>                       <td>  787.6573</td> <td>   77.285</td> <td>   10.192</td> <td> 0.000</td> <td>  634.431</td> <td>  940.883</td>\n",
       "</tr>\n",
       "</table>\n",
       "<table class=\"simpletable\">\n",
       "<tr>\n",
       "  <th>Omnibus:</th>       <td> 6.480</td> <th>  Durbin-Watson:     </th> <td>   1.773</td>\n",
       "</tr>\n",
       "<tr>\n",
       "  <th>Prob(Omnibus):</th> <td> 0.039</td> <th>  Jarque-Bera (JB):  </th> <td>   6.823</td>\n",
       "</tr>\n",
       "<tr>\n",
       "  <th>Skew:</th>          <td> 0.374</td> <th>  Prob(JB):          </th> <td>  0.0330</td>\n",
       "</tr>\n",
       "<tr>\n",
       "  <th>Kurtosis:</th>      <td> 3.884</td> <th>  Cond. No.          </th> <td>1.00e+08</td>\n",
       "</tr>\n",
       "</table><br/><br/>Notes:<br/>[1] Standard Errors assume that the covariance matrix of the errors is correctly specified.<br/>[2] The condition number is large,  1e+08. This might indicate that there are<br/>strong multicollinearity or other numerical problems."
      ],
      "text/plain": [
       "<class 'statsmodels.iolib.summary.Summary'>\n",
       "\"\"\"\n",
       "                            OLS Regression Results                            \n",
       "==============================================================================\n",
       "Dep. Variable:                  price   R-squared:                       0.918\n",
       "Model:                            OLS   Adj. R-squared:                  0.907\n",
       "Method:                 Least Squares   F-statistic:                     79.25\n",
       "Date:                Tue, 09 May 2023   Prob (F-statistic):           1.93e-50\n",
       "Time:                        12:25:49   Log-Likelihood:                -1053.2\n",
       "No. Observations:                 122   AIC:                             2138.\n",
       "Df Residuals:                     106   BIC:                             2183.\n",
       "Df Model:                          15                                         \n",
       "Covariance Type:            nonrobust                                         \n",
       "==============================================================================================\n",
       "                                 coef    std err          t      P>|t|      [0.025      0.975]\n",
       "----------------------------------------------------------------------------------------------\n",
       "Intercept                  -1.566e+06   1.56e+05    -10.064      0.000   -1.87e+06   -1.26e+06\n",
       "trim[T.EX V-6]              1411.5605    528.563      2.671      0.009     363.633    2459.488\n",
       "trim[T.EX V6]                 -3.0493   1020.812     -0.003      0.998   -2026.907    2020.809\n",
       "trim[T.EX-L]                1397.4306    624.776      2.237      0.027     158.751    2636.110\n",
       "trim[T.EX-L V-6]            2455.8995    500.578      4.906      0.000    1463.455    3448.344\n",
       "trim[T.Hybrid]              2204.4900    825.966      2.669      0.009     566.931    3842.049\n",
       "trim[T.LX]                 -1277.7089    452.562     -2.823      0.006   -2174.958    -380.460\n",
       "trim[T.LX Special Edition]  -723.3480   1512.071     -0.478      0.633   -3721.175    2274.479\n",
       "trim[T.LX V-6]             -1010.0084   1509.472     -0.669      0.505   -4002.683    1982.667\n",
       "trim[T.LX-P]                -659.3543    923.379     -0.714      0.477   -2490.042    1171.333\n",
       "trim[T.LX-S]                -611.3303    677.616     -0.902      0.369   -1954.770     732.109\n",
       "trim[T.SE]                   408.7942    563.452      0.726      0.470    -708.304    1525.893\n",
       "trim[T.Special Edition]    -1751.4813   1516.344     -1.155      0.251   -4757.781    1254.818\n",
       "trim[T.Value Package]      -2202.5195   1545.618     -1.425      0.157   -5266.858     861.819\n",
       "mileage                       -0.0379      0.006     -6.858      0.000      -0.049      -0.027\n",
       "year                         787.6573     77.285     10.192      0.000     634.431     940.883\n",
       "==============================================================================\n",
       "Omnibus:                        6.480   Durbin-Watson:                   1.773\n",
       "Prob(Omnibus):                  0.039   Jarque-Bera (JB):                6.823\n",
       "Skew:                           0.374   Prob(JB):                       0.0330\n",
       "Kurtosis:                       3.884   Cond. No.                     1.00e+08\n",
       "==============================================================================\n",
       "\n",
       "Notes:\n",
       "[1] Standard Errors assume that the covariance matrix of the errors is correctly specified.\n",
       "[2] The condition number is large,  1e+08. This might indicate that there are\n",
       "strong multicollinearity or other numerical problems.\n",
       "\"\"\""
      ]
     },
     "execution_count": 10,
     "metadata": {},
     "output_type": "execute_result"
    }
   ],
   "source": [
    "lm3 = smf.ols(formula=\"price ~ mileage + year + trim\", data=accord_df).fit()\n",
    "lm3.summary()"
   ]
  },
  {
   "attachments": {},
   "cell_type": "markdown",
   "metadata": {},
   "source": [
    "The dropped level for trim was \"EX\" (since it was first alphabetically). Thus, the coefficient for \"LX\", which has value -1277.71, means that the estimated average price for an LX accord is about $1277.71 *less* than the estimated average price for an EX accord, keeping mileage and year constant. This makes sense, because the LX trim is typically the entry-level trim for Accords.\n",
    "\n",
    "Further, the trims with signficiant coefficients are EX V-6, EX-L, EX-L V-6, Hybrid, and LX. Looking back at the plot from (a), it seems that many of the trims without siginficant coefficients are that way because there is very little data for the trim."
   ]
  },
  {
   "attachments": {},
   "cell_type": "markdown",
   "metadata": {},
   "source": [
    "**Part (c)** You hypothesize that some Accord trims degrade in value faster than others as more miles are put on the car. Fit a new linear model that adds new term(s) to your model from part (b) to address this hypothesis. Print out a summary of this model fit. Does your hypothesis appear to be true? (Hint: you might find it helpful to refer to Discussion 6 :) ). "
   ]
  },
  {
   "cell_type": "code",
   "execution_count": 107,
   "metadata": {},
   "outputs": [
    {
     "data": {
      "text/html": [
       "<table class=\"simpletable\">\n",
       "<caption>OLS Regression Results</caption>\n",
       "<tr>\n",
       "  <th>Dep. Variable:</th>          <td>price</td>      <th>  R-squared:         </th> <td>   0.946</td>\n",
       "</tr>\n",
       "<tr>\n",
       "  <th>Model:</th>                   <td>OLS</td>       <th>  Adj. R-squared:    </th> <td>   0.932</td>\n",
       "</tr>\n",
       "<tr>\n",
       "  <th>Method:</th>             <td>Least Squares</td>  <th>  F-statistic:       </th> <td>   70.61</td>\n",
       "</tr>\n",
       "<tr>\n",
       "  <th>Date:</th>             <td>Fri, 24 Feb 2023</td> <th>  Prob (F-statistic):</th> <td>6.42e-51</td>\n",
       "</tr>\n",
       "<tr>\n",
       "  <th>Time:</th>                 <td>09:25:15</td>     <th>  Log-Likelihood:    </th> <td> -1027.9</td>\n",
       "</tr>\n",
       "<tr>\n",
       "  <th>No. Observations:</th>      <td>   122</td>      <th>  AIC:               </th> <td>   2106.</td>\n",
       "</tr>\n",
       "<tr>\n",
       "  <th>Df Residuals:</th>          <td>    97</td>      <th>  BIC:               </th> <td>   2176.</td>\n",
       "</tr>\n",
       "<tr>\n",
       "  <th>Df Model:</th>              <td>    24</td>      <th>                     </th>     <td> </td>   \n",
       "</tr>\n",
       "<tr>\n",
       "  <th>Covariance Type:</th>      <td>nonrobust</td>    <th>                     </th>     <td> </td>   \n",
       "</tr>\n",
       "</table>\n",
       "<table class=\"simpletable\">\n",
       "<tr>\n",
       "                   <td></td>                     <th>coef</th>     <th>std err</th>      <th>t</th>      <th>P>|t|</th>  <th>[0.025</th>    <th>0.975]</th>  \n",
       "</tr>\n",
       "<tr>\n",
       "  <th>Intercept</th>                          <td>-1.707e+06</td> <td> 1.42e+05</td> <td>  -12.030</td> <td> 0.000</td> <td>-1.99e+06</td> <td>-1.43e+06</td>\n",
       "</tr>\n",
       "<tr>\n",
       "  <th>trim[T.EX V-6]</th>                     <td>  -30.9096</td> <td>  979.633</td> <td>   -0.032</td> <td> 0.975</td> <td>-1975.210</td> <td> 1913.391</td>\n",
       "</tr>\n",
       "<tr>\n",
       "  <th>trim[T.EX V6]</th>                      <td>-4610.1068</td> <td> 3871.437</td> <td>   -1.191</td> <td> 0.237</td> <td>-1.23e+04</td> <td> 3073.623</td>\n",
       "</tr>\n",
       "<tr>\n",
       "  <th>trim[T.EX-L]</th>                       <td> 4968.7989</td> <td> 1357.159</td> <td>    3.661</td> <td> 0.000</td> <td> 2275.214</td> <td> 7662.384</td>\n",
       "</tr>\n",
       "<tr>\n",
       "  <th>trim[T.EX-L V-6]</th>                   <td> 4818.1356</td> <td>  846.294</td> <td>    5.693</td> <td> 0.000</td> <td> 3138.477</td> <td> 6497.795</td>\n",
       "</tr>\n",
       "<tr>\n",
       "  <th>trim[T.Hybrid]</th>                     <td>-1064.7753</td> <td> 4006.212</td> <td>   -0.266</td> <td> 0.791</td> <td>-9015.998</td> <td> 6886.447</td>\n",
       "</tr>\n",
       "<tr>\n",
       "  <th>trim[T.LX]</th>                         <td>-1722.2316</td> <td>  711.998</td> <td>   -2.419</td> <td> 0.017</td> <td>-3135.351</td> <td> -309.112</td>\n",
       "</tr>\n",
       "<tr>\n",
       "  <th>trim[T.LX Special Edition]</th>         <td>-5.796e-09</td> <td> 7.91e-08</td> <td>   -0.073</td> <td> 0.942</td> <td>-1.63e-07</td> <td> 1.51e-07</td>\n",
       "</tr>\n",
       "<tr>\n",
       "  <th>trim[T.LX V-6]</th>                     <td>-1.142e-07</td> <td> 1.21e-07</td> <td>   -0.941</td> <td> 0.349</td> <td>-3.55e-07</td> <td> 1.27e-07</td>\n",
       "</tr>\n",
       "<tr>\n",
       "  <th>trim[T.LX-P]</th>                       <td> -169.2638</td> <td> 1642.026</td> <td>   -0.103</td> <td> 0.918</td> <td>-3428.231</td> <td> 3089.703</td>\n",
       "</tr>\n",
       "<tr>\n",
       "  <th>trim[T.LX-S]</th>                       <td> 1395.8822</td> <td> 1009.571</td> <td>    1.383</td> <td> 0.170</td> <td> -607.838</td> <td> 3399.602</td>\n",
       "</tr>\n",
       "<tr>\n",
       "  <th>trim[T.SE]</th>                         <td> 2293.3519</td> <td> 1787.666</td> <td>    1.283</td> <td> 0.203</td> <td>-1254.670</td> <td> 5841.374</td>\n",
       "</tr>\n",
       "<tr>\n",
       "  <th>trim[T.Special Edition]</th>            <td> -8.71e-08</td> <td> 7.54e-08</td> <td>   -1.154</td> <td> 0.251</td> <td>-2.37e-07</td> <td> 6.26e-08</td>\n",
       "</tr>\n",
       "<tr>\n",
       "  <th>trim[T.Value Package]</th>              <td>-1.371e-07</td> <td> 1.09e-07</td> <td>   -1.258</td> <td> 0.212</td> <td>-3.53e-07</td> <td> 7.93e-08</td>\n",
       "</tr>\n",
       "<tr>\n",
       "  <th>year</th>                               <td>  858.0605</td> <td>   70.477</td> <td>   12.175</td> <td> 0.000</td> <td>  718.183</td> <td>  997.938</td>\n",
       "</tr>\n",
       "<tr>\n",
       "  <th>mileage</th>                            <td>   -0.0319</td> <td>    0.008</td> <td>   -3.911</td> <td> 0.000</td> <td>   -0.048</td> <td>   -0.016</td>\n",
       "</tr>\n",
       "<tr>\n",
       "  <th>mileage:trim[T.EX V-6]</th>             <td>    0.0124</td> <td>    0.009</td> <td>    1.386</td> <td> 0.169</td> <td>   -0.005</td> <td>    0.030</td>\n",
       "</tr>\n",
       "<tr>\n",
       "  <th>mileage:trim[T.EX V6]</th>              <td>    0.0364</td> <td>    0.028</td> <td>    1.285</td> <td> 0.202</td> <td>   -0.020</td> <td>    0.093</td>\n",
       "</tr>\n",
       "<tr>\n",
       "  <th>mileage:trim[T.EX-L]</th>               <td>   -0.0452</td> <td>    0.016</td> <td>   -2.861</td> <td> 0.005</td> <td>   -0.077</td> <td>   -0.014</td>\n",
       "</tr>\n",
       "<tr>\n",
       "  <th>mileage:trim[T.EX-L V-6]</th>           <td>   -0.0433</td> <td>    0.012</td> <td>   -3.699</td> <td> 0.000</td> <td>   -0.067</td> <td>   -0.020</td>\n",
       "</tr>\n",
       "<tr>\n",
       "  <th>mileage:trim[T.Hybrid]</th>             <td>    0.0324</td> <td>    0.038</td> <td>    0.846</td> <td> 0.400</td> <td>   -0.044</td> <td>    0.109</td>\n",
       "</tr>\n",
       "<tr>\n",
       "  <th>mileage:trim[T.LX]</th>                 <td>    0.0078</td> <td>    0.008</td> <td>    0.920</td> <td> 0.360</td> <td>   -0.009</td> <td>    0.024</td>\n",
       "</tr>\n",
       "<tr>\n",
       "  <th>mileage:trim[T.LX Special Edition]</th> <td>   -0.0061</td> <td>    0.010</td> <td>   -0.618</td> <td> 0.538</td> <td>   -0.026</td> <td>    0.013</td>\n",
       "</tr>\n",
       "<tr>\n",
       "  <th>mileage:trim[T.LX V-6]</th>             <td>   -0.0089</td> <td>    0.012</td> <td>   -0.713</td> <td> 0.478</td> <td>   -0.034</td> <td>    0.016</td>\n",
       "</tr>\n",
       "<tr>\n",
       "  <th>mileage:trim[T.LX-P]</th>               <td>   -0.0109</td> <td>    0.030</td> <td>   -0.360</td> <td> 0.720</td> <td>   -0.071</td> <td>    0.049</td>\n",
       "</tr>\n",
       "<tr>\n",
       "  <th>mileage:trim[T.LX-S]</th>               <td>   -0.0483</td> <td>    0.017</td> <td>   -2.811</td> <td> 0.006</td> <td>   -0.082</td> <td>   -0.014</td>\n",
       "</tr>\n",
       "<tr>\n",
       "  <th>mileage:trim[T.SE]</th>                 <td>   -0.0519</td> <td>    0.046</td> <td>   -1.122</td> <td> 0.265</td> <td>   -0.144</td> <td>    0.040</td>\n",
       "</tr>\n",
       "<tr>\n",
       "  <th>mileage:trim[T.Special Edition]</th>    <td>   -0.0148</td> <td>    0.010</td> <td>   -1.483</td> <td> 0.141</td> <td>   -0.035</td> <td>    0.005</td>\n",
       "</tr>\n",
       "<tr>\n",
       "  <th>mileage:trim[T.Value Package]</th>      <td>   -0.0176</td> <td>    0.012</td> <td>   -1.463</td> <td> 0.147</td> <td>   -0.041</td> <td>    0.006</td>\n",
       "</tr>\n",
       "</table>\n",
       "<table class=\"simpletable\">\n",
       "<tr>\n",
       "  <th>Omnibus:</th>       <td> 3.860</td> <th>  Durbin-Watson:     </th> <td>   1.656</td>\n",
       "</tr>\n",
       "<tr>\n",
       "  <th>Prob(Omnibus):</th> <td> 0.145</td> <th>  Jarque-Bera (JB):  </th> <td>   3.270</td>\n",
       "</tr>\n",
       "<tr>\n",
       "  <th>Skew:</th>          <td> 0.344</td> <th>  Prob(JB):          </th> <td>   0.195</td>\n",
       "</tr>\n",
       "<tr>\n",
       "  <th>Kurtosis:</th>      <td> 3.413</td> <th>  Cond. No.          </th> <td>1.22e+16</td>\n",
       "</tr>\n",
       "</table><br/><br/>Notes:<br/>[1] Standard Errors assume that the covariance matrix of the errors is correctly specified.<br/>[2] The smallest eigenvalue is 6.83e-21. This might indicate that there are<br/>strong multicollinearity problems or that the design matrix is singular."
      ],
      "text/plain": [
       "<class 'statsmodels.iolib.summary.Summary'>\n",
       "\"\"\"\n",
       "                            OLS Regression Results                            \n",
       "==============================================================================\n",
       "Dep. Variable:                  price   R-squared:                       0.946\n",
       "Model:                            OLS   Adj. R-squared:                  0.932\n",
       "Method:                 Least Squares   F-statistic:                     70.61\n",
       "Date:                Fri, 24 Feb 2023   Prob (F-statistic):           6.42e-51\n",
       "Time:                        09:25:15   Log-Likelihood:                -1027.9\n",
       "No. Observations:                 122   AIC:                             2106.\n",
       "Df Residuals:                      97   BIC:                             2176.\n",
       "Df Model:                          24                                         \n",
       "Covariance Type:            nonrobust                                         \n",
       "======================================================================================================\n",
       "                                         coef    std err          t      P>|t|      [0.025      0.975]\n",
       "------------------------------------------------------------------------------------------------------\n",
       "Intercept                          -1.707e+06   1.42e+05    -12.030      0.000   -1.99e+06   -1.43e+06\n",
       "trim[T.EX V-6]                       -30.9096    979.633     -0.032      0.975   -1975.210    1913.391\n",
       "trim[T.EX V6]                      -4610.1068   3871.437     -1.191      0.237   -1.23e+04    3073.623\n",
       "trim[T.EX-L]                        4968.7989   1357.159      3.661      0.000    2275.214    7662.384\n",
       "trim[T.EX-L V-6]                    4818.1356    846.294      5.693      0.000    3138.477    6497.795\n",
       "trim[T.Hybrid]                     -1064.7753   4006.212     -0.266      0.791   -9015.998    6886.447\n",
       "trim[T.LX]                         -1722.2316    711.998     -2.419      0.017   -3135.351    -309.112\n",
       "trim[T.LX Special Edition]         -5.796e-09   7.91e-08     -0.073      0.942   -1.63e-07    1.51e-07\n",
       "trim[T.LX V-6]                     -1.142e-07   1.21e-07     -0.941      0.349   -3.55e-07    1.27e-07\n",
       "trim[T.LX-P]                        -169.2638   1642.026     -0.103      0.918   -3428.231    3089.703\n",
       "trim[T.LX-S]                        1395.8822   1009.571      1.383      0.170    -607.838    3399.602\n",
       "trim[T.SE]                          2293.3519   1787.666      1.283      0.203   -1254.670    5841.374\n",
       "trim[T.Special Edition]             -8.71e-08   7.54e-08     -1.154      0.251   -2.37e-07    6.26e-08\n",
       "trim[T.Value Package]              -1.371e-07   1.09e-07     -1.258      0.212   -3.53e-07    7.93e-08\n",
       "year                                 858.0605     70.477     12.175      0.000     718.183     997.938\n",
       "mileage                               -0.0319      0.008     -3.911      0.000      -0.048      -0.016\n",
       "mileage:trim[T.EX V-6]                 0.0124      0.009      1.386      0.169      -0.005       0.030\n",
       "mileage:trim[T.EX V6]                  0.0364      0.028      1.285      0.202      -0.020       0.093\n",
       "mileage:trim[T.EX-L]                  -0.0452      0.016     -2.861      0.005      -0.077      -0.014\n",
       "mileage:trim[T.EX-L V-6]              -0.0433      0.012     -3.699      0.000      -0.067      -0.020\n",
       "mileage:trim[T.Hybrid]                 0.0324      0.038      0.846      0.400      -0.044       0.109\n",
       "mileage:trim[T.LX]                     0.0078      0.008      0.920      0.360      -0.009       0.024\n",
       "mileage:trim[T.LX Special Edition]    -0.0061      0.010     -0.618      0.538      -0.026       0.013\n",
       "mileage:trim[T.LX V-6]                -0.0089      0.012     -0.713      0.478      -0.034       0.016\n",
       "mileage:trim[T.LX-P]                  -0.0109      0.030     -0.360      0.720      -0.071       0.049\n",
       "mileage:trim[T.LX-S]                  -0.0483      0.017     -2.811      0.006      -0.082      -0.014\n",
       "mileage:trim[T.SE]                    -0.0519      0.046     -1.122      0.265      -0.144       0.040\n",
       "mileage:trim[T.Special Edition]       -0.0148      0.010     -1.483      0.141      -0.035       0.005\n",
       "mileage:trim[T.Value Package]         -0.0176      0.012     -1.463      0.147      -0.041       0.006\n",
       "==============================================================================\n",
       "Omnibus:                        3.860   Durbin-Watson:                   1.656\n",
       "Prob(Omnibus):                  0.145   Jarque-Bera (JB):                3.270\n",
       "Skew:                           0.344   Prob(JB):                        0.195\n",
       "Kurtosis:                       3.413   Cond. No.                     1.22e+16\n",
       "==============================================================================\n",
       "\n",
       "Notes:\n",
       "[1] Standard Errors assume that the covariance matrix of the errors is correctly specified.\n",
       "[2] The smallest eigenvalue is 6.83e-21. This might indicate that there are\n",
       "strong multicollinearity problems or that the design matrix is singular.\n",
       "\"\"\""
      ]
     },
     "execution_count": 107,
     "metadata": {},
     "output_type": "execute_result"
    }
   ],
   "source": [
    "lm = smf.ols(\"price ~ year + mileage * trim\", data=accord_df).fit()\n",
    "lm.summary()"
   ]
  },
  {
   "attachments": {},
   "cell_type": "markdown",
   "metadata": {},
   "source": [
    "There are 3 trims in which the interaction term is significant, and several others where it is not. Therefore, it seems that the hypothesis is true for some of the trims, but definitely not all of them."
   ]
  },
  {
   "attachments": {},
   "cell_type": "markdown",
   "metadata": {},
   "source": [
    "**Part (d)**: Give an interpretation for one of the new coefficients you added to the model from part (c)."
   ]
  },
  {
   "attachments": {},
   "cell_type": "markdown",
   "metadata": {},
   "source": [
    "*Answer*: Here's an interpretation for the interaction term between mileage and the LX trim: the predicted slope between mileage and price in accords (i.e. the increased price per 1 unit increase in mileage) increases by 0.0078 when the trim changes EX to LX. Since the reference slope (i.e. slope for EX trim) is negative, this means that LX Accords decrease in value less than EX Accords as they are driven more."
   ]
  },
  {
   "attachments": {},
   "cell_type": "markdown",
   "metadata": {},
   "source": [
    "## Question 3: Polynomial Regression\n",
    "\n",
    "**Part (a)** Subset the cars data to now include all Hondas, regardless of model, and make a scatterplot comparing mileage and price in this new data. Based on your plot (and perhaps also your knowledge about cars), does it look reasonable to say that mileage and price are related linearly? "
   ]
  },
  {
   "cell_type": "code",
   "execution_count": 4,
   "metadata": {},
   "outputs": [
    {
     "data": {
      "text/plain": [
       "<AxesSubplot:xlabel='mileage', ylabel='price'>"
      ]
     },
     "execution_count": 4,
     "metadata": {},
     "output_type": "execute_result"
    },
    {
     "data": {
      "image/png": "[encoded data removed]",
      "text/plain": [
       "<Figure size 432x288 with 1 Axes>"
      ]
     },
     "metadata": {},
     "output_type": "display_data"
    }
   ],
   "source": [
    "honda_df = cars_df[cars_df[\"make\"] == \"Honda\"]\n",
    "sns.scatterplot(data=honda_df, x=\"mileage\", y=\"price\")"
   ]
  },
  {
   "attachments": {},
   "cell_type": "markdown",
   "metadata": {},
   "source": [
    "The relationship is reasonably approximated by a linear function. However, a linear function will definitely under estimate the price for Hondas at the upper and lower mileage ranges, indicating that a nonlinear function may fit the data more accurately.  "
   ]
  },
  {
   "attachments": {},
   "cell_type": "markdown",
   "metadata": {},
   "source": [
    "**Part (b)** Test your rationale from part (a) by fitting a quadratic model predicting price from mileage. Print the model summary, and show the scatterplot from part (a) with your regression curve added."
   ]
  },
  {
   "cell_type": "code",
   "execution_count": 11,
   "metadata": {},
   "outputs": [
    {
     "data": {
      "text/html": [
       "<table class=\"simpletable\">\n",
       "<caption>OLS Regression Results</caption>\n",
       "<tr>\n",
       "  <th>Dep. Variable:</th>          <td>price</td>      <th>  R-squared:         </th> <td>   0.762</td>\n",
       "</tr>\n",
       "<tr>\n",
       "  <th>Model:</th>                   <td>OLS</td>       <th>  Adj. R-squared:    </th> <td>   0.758</td>\n",
       "</tr>\n",
       "<tr>\n",
       "  <th>Method:</th>             <td>Least Squares</td>  <th>  F-statistic:       </th> <td>   190.7</td>\n",
       "</tr>\n",
       "<tr>\n",
       "  <th>Date:</th>             <td>Tue, 09 May 2023</td> <th>  Prob (F-statistic):</th> <td>7.73e-38</td>\n",
       "</tr>\n",
       "<tr>\n",
       "  <th>Time:</th>                 <td>12:51:49</td>     <th>  Log-Likelihood:    </th> <td> -1118.2</td>\n",
       "</tr>\n",
       "<tr>\n",
       "  <th>No. Observations:</th>      <td>   122</td>      <th>  AIC:               </th> <td>   2242.</td>\n",
       "</tr>\n",
       "<tr>\n",
       "  <th>Df Residuals:</th>          <td>   119</td>      <th>  BIC:               </th> <td>   2251.</td>\n",
       "</tr>\n",
       "<tr>\n",
       "  <th>Df Model:</th>              <td>     2</td>      <th>                     </th>     <td> </td>   \n",
       "</tr>\n",
       "<tr>\n",
       "  <th>Covariance Type:</th>      <td>nonrobust</td>    <th>                     </th>     <td> </td>   \n",
       "</tr>\n",
       "</table>\n",
       "<table class=\"simpletable\">\n",
       "<tr>\n",
       "         <td></td>            <th>coef</th>     <th>std err</th>      <th>t</th>      <th>P>|t|</th>  <th>[0.025</th>    <th>0.975]</th>  \n",
       "</tr>\n",
       "<tr>\n",
       "  <th>Intercept</th>       <td> 2.207e+04</td> <td>  603.899</td> <td>   36.548</td> <td> 0.000</td> <td> 2.09e+04</td> <td> 2.33e+04</td>\n",
       "</tr>\n",
       "<tr>\n",
       "  <th>mileage</th>         <td>   -0.1311</td> <td>    0.015</td> <td>   -8.691</td> <td> 0.000</td> <td>   -0.161</td> <td>   -0.101</td>\n",
       "</tr>\n",
       "<tr>\n",
       "  <th>I(mileage ** 2)</th> <td> 2.324e-07</td> <td> 7.72e-08</td> <td>    3.009</td> <td> 0.003</td> <td> 7.95e-08</td> <td> 3.85e-07</td>\n",
       "</tr>\n",
       "</table>\n",
       "<table class=\"simpletable\">\n",
       "<tr>\n",
       "  <th>Omnibus:</th>       <td>10.208</td> <th>  Durbin-Watson:     </th> <td>   1.924</td>\n",
       "</tr>\n",
       "<tr>\n",
       "  <th>Prob(Omnibus):</th> <td> 0.006</td> <th>  Jarque-Bera (JB):  </th> <td>  23.891</td>\n",
       "</tr>\n",
       "<tr>\n",
       "  <th>Skew:</th>          <td> 0.130</td> <th>  Prob(JB):          </th> <td>6.49e-06</td>\n",
       "</tr>\n",
       "<tr>\n",
       "  <th>Kurtosis:</th>      <td> 5.152</td> <th>  Cond. No.          </th> <td>3.31e+10</td>\n",
       "</tr>\n",
       "</table><br/><br/>Notes:<br/>[1] Standard Errors assume that the covariance matrix of the errors is correctly specified.<br/>[2] The condition number is large, 3.31e+10. This might indicate that there are<br/>strong multicollinearity or other numerical problems."
      ],
      "text/plain": [
       "<class 'statsmodels.iolib.summary.Summary'>\n",
       "\"\"\"\n",
       "                            OLS Regression Results                            \n",
       "==============================================================================\n",
       "Dep. Variable:                  price   R-squared:                       0.762\n",
       "Model:                            OLS   Adj. R-squared:                  0.758\n",
       "Method:                 Least Squares   F-statistic:                     190.7\n",
       "Date:                Tue, 09 May 2023   Prob (F-statistic):           7.73e-38\n",
       "Time:                        12:51:49   Log-Likelihood:                -1118.2\n",
       "No. Observations:                 122   AIC:                             2242.\n",
       "Df Residuals:                     119   BIC:                             2251.\n",
       "Df Model:                           2                                         \n",
       "Covariance Type:            nonrobust                                         \n",
       "===================================================================================\n",
       "                      coef    std err          t      P>|t|      [0.025      0.975]\n",
       "-----------------------------------------------------------------------------------\n",
       "Intercept        2.207e+04    603.899     36.548      0.000    2.09e+04    2.33e+04\n",
       "mileage            -0.1311      0.015     -8.691      0.000      -0.161      -0.101\n",
       "I(mileage ** 2)  2.324e-07   7.72e-08      3.009      0.003    7.95e-08    3.85e-07\n",
       "==============================================================================\n",
       "Omnibus:                       10.208   Durbin-Watson:                   1.924\n",
       "Prob(Omnibus):                  0.006   Jarque-Bera (JB):               23.891\n",
       "Skew:                           0.130   Prob(JB):                     6.49e-06\n",
       "Kurtosis:                       5.152   Cond. No.                     3.31e+10\n",
       "==============================================================================\n",
       "\n",
       "Notes:\n",
       "[1] Standard Errors assume that the covariance matrix of the errors is correctly specified.\n",
       "[2] The condition number is large, 3.31e+10. This might indicate that there are\n",
       "strong multicollinearity or other numerical problems.\n",
       "\"\"\""
      ]
     },
     "execution_count": 11,
     "metadata": {},
     "output_type": "execute_result"
    }
   ],
   "source": [
    "quad_model = smf.ols(\"price ~ mileage + I(mileage ** 2)\", data=accord_df).fit()\n",
    "quad_model.summary()"
   ]
  },
  {
   "cell_type": "code",
   "execution_count": 128,
   "metadata": {},
   "outputs": [
    {
     "data": {
      "text/plain": [
       "<AxesSubplot:xlabel='mileage', ylabel='price'>"
      ]
     },
     "execution_count": 128,
     "metadata": {},
     "output_type": "execute_result"
    },
    {
     "data": {
      "image/png": "[encoded data removed]",
      "text/plain": [
       "<Figure size 432x288 with 1 Axes>"
      ]
     },
     "metadata": {},
     "output_type": "display_data"
    }
   ],
   "source": [
    "x = np.linspace(0, 300000, 10000)\n",
    "inputs = np.column_stack([np.ones(10000), x, x**2])\n",
    "\n",
    "sns.scatterplot(data=honda_df, x=\"mileage\", y=\"price\")\n",
    "sns.lineplot(x=x, y=quad_model.predict(inputs), color=\"red\")"
   ]
  },
  {
   "attachments": {},
   "cell_type": "markdown",
   "metadata": {},
   "source": [
    "The quadratic model does seem to fit the data better visually. The coefficient for the quadratic term is also significant with near 0 p-value, indicating value for the quadratic model."
   ]
  },
  {
   "attachments": {},
   "cell_type": "markdown",
   "metadata": {},
   "source": [
    "**Part (c)**: Is the quadratic model a better model than the linear model with only mileage (i.e. the model from Q1b)? Justify your answer with appropriate model outputs."
   ]
  },
  {
   "cell_type": "code",
   "execution_count": 12,
   "metadata": {},
   "outputs": [
    {
     "data": {
      "text/html": [
       "<table class=\"simpletable\">\n",
       "<caption>OLS Regression Results</caption>\n",
       "<tr>\n",
       "  <th>Dep. Variable:</th>          <td>price</td>      <th>  R-squared:         </th> <td>   0.744</td>\n",
       "</tr>\n",
       "<tr>\n",
       "  <th>Model:</th>                   <td>OLS</td>       <th>  Adj. R-squared:    </th> <td>   0.742</td>\n",
       "</tr>\n",
       "<tr>\n",
       "  <th>Method:</th>             <td>Least Squares</td>  <th>  F-statistic:       </th> <td>   348.9</td>\n",
       "</tr>\n",
       "<tr>\n",
       "  <th>Date:</th>             <td>Tue, 09 May 2023</td> <th>  Prob (F-statistic):</th> <td>2.58e-37</td>\n",
       "</tr>\n",
       "<tr>\n",
       "  <th>Time:</th>                 <td>12:56:57</td>     <th>  Log-Likelihood:    </th> <td> -1122.7</td>\n",
       "</tr>\n",
       "<tr>\n",
       "  <th>No. Observations:</th>      <td>   122</td>      <th>  AIC:               </th> <td>   2249.</td>\n",
       "</tr>\n",
       "<tr>\n",
       "  <th>Df Residuals:</th>          <td>   120</td>      <th>  BIC:               </th> <td>   2255.</td>\n",
       "</tr>\n",
       "<tr>\n",
       "  <th>Df Model:</th>              <td>     1</td>      <th>                     </th>     <td> </td>   \n",
       "</tr>\n",
       "<tr>\n",
       "  <th>Covariance Type:</th>      <td>nonrobust</td>    <th>                     </th>     <td> </td>   \n",
       "</tr>\n",
       "</table>\n",
       "<table class=\"simpletable\">\n",
       "<tr>\n",
       "      <td></td>         <th>coef</th>     <th>std err</th>      <th>t</th>      <th>P>|t|</th>  <th>[0.025</th>    <th>0.975]</th>  \n",
       "</tr>\n",
       "<tr>\n",
       "  <th>Intercept</th> <td> 2.068e+04</td> <td>  399.474</td> <td>   51.757</td> <td> 0.000</td> <td> 1.99e+04</td> <td> 2.15e+04</td>\n",
       "</tr>\n",
       "<tr>\n",
       "  <th>mileage</th>   <td>   -0.0878</td> <td>    0.005</td> <td>  -18.678</td> <td> 0.000</td> <td>   -0.097</td> <td>   -0.079</td>\n",
       "</tr>\n",
       "</table>\n",
       "<table class=\"simpletable\">\n",
       "<tr>\n",
       "  <th>Omnibus:</th>       <td>11.055</td> <th>  Durbin-Watson:     </th> <td>   1.914</td>\n",
       "</tr>\n",
       "<tr>\n",
       "  <th>Prob(Omnibus):</th> <td> 0.004</td> <th>  Jarque-Bera (JB):  </th> <td>  25.418</td>\n",
       "</tr>\n",
       "<tr>\n",
       "  <th>Skew:</th>          <td> 0.215</td> <th>  Prob(JB):          </th> <td>3.02e-06</td>\n",
       "</tr>\n",
       "<tr>\n",
       "  <th>Kurtosis:</th>      <td> 5.194</td> <th>  Cond. No.          </th> <td>1.55e+05</td>\n",
       "</tr>\n",
       "</table><br/><br/>Notes:<br/>[1] Standard Errors assume that the covariance matrix of the errors is correctly specified.<br/>[2] The condition number is large, 1.55e+05. This might indicate that there are<br/>strong multicollinearity or other numerical problems."
      ],
      "text/plain": [
       "<class 'statsmodels.iolib.summary.Summary'>\n",
       "\"\"\"\n",
       "                            OLS Regression Results                            \n",
       "==============================================================================\n",
       "Dep. Variable:                  price   R-squared:                       0.744\n",
       "Model:                            OLS   Adj. R-squared:                  0.742\n",
       "Method:                 Least Squares   F-statistic:                     348.9\n",
       "Date:                Tue, 09 May 2023   Prob (F-statistic):           2.58e-37\n",
       "Time:                        12:56:57   Log-Likelihood:                -1122.7\n",
       "No. Observations:                 122   AIC:                             2249.\n",
       "Df Residuals:                     120   BIC:                             2255.\n",
       "Df Model:                           1                                         \n",
       "Covariance Type:            nonrobust                                         \n",
       "==============================================================================\n",
       "                 coef    std err          t      P>|t|      [0.025      0.975]\n",
       "------------------------------------------------------------------------------\n",
       "Intercept   2.068e+04    399.474     51.757      0.000    1.99e+04    2.15e+04\n",
       "mileage       -0.0878      0.005    -18.678      0.000      -0.097      -0.079\n",
       "==============================================================================\n",
       "Omnibus:                       11.055   Durbin-Watson:                   1.914\n",
       "Prob(Omnibus):                  0.004   Jarque-Bera (JB):               25.418\n",
       "Skew:                           0.215   Prob(JB):                     3.02e-06\n",
       "Kurtosis:                       5.194   Cond. No.                     1.55e+05\n",
       "==============================================================================\n",
       "\n",
       "Notes:\n",
       "[1] Standard Errors assume that the covariance matrix of the errors is correctly specified.\n",
       "[2] The condition number is large, 1.55e+05. This might indicate that there are\n",
       "strong multicollinearity or other numerical problems.\n",
       "\"\"\""
      ]
     },
     "execution_count": 12,
     "metadata": {},
     "output_type": "execute_result"
    }
   ],
   "source": [
    "linear_model = smf.ols(\"price ~ mileage\", data=accord_df).fit()\n",
    "linear_model.summary()"
   ]
  },
  {
   "attachments": {},
   "cell_type": "markdown",
   "metadata": {},
   "source": [
    "There are a few different metrics that could be used to determine which model is better. The simpliest is to use R squared: the quadratic model has an R squared of 0.762, while the linear model has an R squared of 0.744. Since the quadratic model has a larger R squared, this signals that the quadratic model is a better fit.\n",
    "\n",
    "You could also calculate the root mean squared error (RMSE) for each model, and determine the better model as the model with the lower RMSE. This should be roughly equivalent to the R squared approach."
   ]
  }
 ],
 "metadata": {
  "kernelspec": {
   "display_name": "Python 3",
   "language": "python",
   "name": "python3"
  },
  "language_info": {
   "codemirror_mode": {
    "name": "ipython",
    "version": 3
   },
   "file_extension": ".py",
   "mimetype": "text/x-python",
   "name": "python",
   "nbconvert_exporter": "python",
   "pygments_lexer": "ipython3",
   "version": "3.11.2"
  },
  "orig_nbformat": 4,
  "vscode": {
   "interpreter": {
    "hash": "aee8b7b246df8f9039afb4144a1f6fd8d2ca17a180786b69acc140d282b71a49"
   }
  }
 },
 "nbformat": 4,
 "nbformat_minor": 2
}
