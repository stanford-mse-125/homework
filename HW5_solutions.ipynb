{
 "cells": [
  {
   "attachments": {},
   "cell_type": "markdown",
   "metadata": {},
   "source": [
    "# Homework 5: Linear Regression\n",
    "\n",
    "**Insert HW logistics**"
   ]
  },
  {
   "cell_type": "code",
   "execution_count": 1,
   "metadata": {},
   "outputs": [],
   "source": [
    "import numpy as np \n",
    "import pandas as pd\n",
    "import matplotlib.pyplot as plt\n",
    "import seaborn as sns\n",
    "import statsmodels.api as sm\n",
    "sns.set_style(\"darkgrid\")"
   ]
  },
  {
   "attachments": {},
   "cell_type": "markdown",
   "metadata": {},
   "source": [
    "## Question 1: Correlation\n",
    "\n",
    "**Part (a)**: For each of the following, indicate if the correlation between the two features would most likely be closest to 0.8, 0.2, 0, -0.2, or -0.8.\n",
    "\n",
    "- Average hours worked per week, and weekly income.\n",
    "- Number of cookies eaten per week, and Body Mass Index (BMI).\n",
    "- Temperate and month of the year.\n",
    "- Temperate and ice cream sales.\n",
    "\n",
    "Answer: \n",
    "- Closer to 0.8\n",
    "- Closer to 0.2\n",
    "- Closer to 0 (because there is nonlinear relationship but not linear relationship)\n",
    "- Closer to -0.8"
   ]
  },
  {
   "attachments": {},
   "cell_type": "markdown",
   "metadata": {},
   "source": [
    "**Part (b)**: Give one example of two features that are correlated but not causally related. Clearly justify why there is a correlation, and show that the relationship is not causal by identifying a confounder, i.e. a third feature that is causally responsible for the correlation between the two features.\n",
    "\n",
    "Answer: \n",
    "- One example is a country's chocolate consumption and a country's number of Nobel laureates. These variables have a strong correlation (e.g. see [this paper](https://academic.oup.com/jn/article/143/6/931/4571741)), and yet there is no causal relationship. Instead, there is some confounding variable that leads to this correlation (e.g., wealth)."
   ]
  },
  {
   "attachments": {},
   "cell_type": "markdown",
   "metadata": {},
   "source": [
    "## Question 2: Accord Data Correlation\n",
    "\n",
    "The below code will read in data about the prices of various used cars along with their make, model, trim, year, and mileage. "
   ]
  },
  {
   "cell_type": "code",
   "execution_count": 2,
   "metadata": {},
   "outputs": [
    {
     "data": {
      "text/html": [
       "<div>\n",
       "<style scoped>\n",
       "    .dataframe tbody tr th:only-of-type {\n",
       "        vertical-align: middle;\n",
       "    }\n",
       "\n",
       "    .dataframe tbody tr th {\n",
       "        vertical-align: top;\n",
       "    }\n",
       "\n",
       "    .dataframe thead th {\n",
       "        text-align: right;\n",
       "    }\n",
       "</style>\n",
       "<table border=\"1\" class=\"dataframe\">\n",
       "  <thead>\n",
       "    <tr style=\"text-align: right;\">\n",
       "      <th></th>\n",
       "      <th>type</th>\n",
       "      <th>year</th>\n",
       "      <th>make</th>\n",
       "      <th>model</th>\n",
       "      <th>trim</th>\n",
       "      <th>mileage</th>\n",
       "      <th>price</th>\n",
       "    </tr>\n",
       "  </thead>\n",
       "  <tbody>\n",
       "    <tr>\n",
       "      <th>0</th>\n",
       "      <td>USED</td>\n",
       "      <td>2010</td>\n",
       "      <td>Acura</td>\n",
       "      <td>TL</td>\n",
       "      <td>Base</td>\n",
       "      <td>73936</td>\n",
       "      <td>19388</td>\n",
       "    </tr>\n",
       "    <tr>\n",
       "      <th>1</th>\n",
       "      <td>USED</td>\n",
       "      <td>2012</td>\n",
       "      <td>Acura</td>\n",
       "      <td>MDX</td>\n",
       "      <td>Technology Package</td>\n",
       "      <td>32453</td>\n",
       "      <td>34898</td>\n",
       "    </tr>\n",
       "    <tr>\n",
       "      <th>2</th>\n",
       "      <td>USED</td>\n",
       "      <td>2010</td>\n",
       "      <td>Acura</td>\n",
       "      <td>TL</td>\n",
       "      <td>Base</td>\n",
       "      <td>34302</td>\n",
       "      <td>22000</td>\n",
       "    </tr>\n",
       "    <tr>\n",
       "      <th>3</th>\n",
       "      <td>USED</td>\n",
       "      <td>2009</td>\n",
       "      <td>Acura</td>\n",
       "      <td>TL</td>\n",
       "      <td>SH-AWD</td>\n",
       "      <td>98772</td>\n",
       "      <td>17988</td>\n",
       "    </tr>\n",
       "    <tr>\n",
       "      <th>4</th>\n",
       "      <td>USED</td>\n",
       "      <td>2007</td>\n",
       "      <td>Acura</td>\n",
       "      <td>MDX</td>\n",
       "      <td>Base</td>\n",
       "      <td>65677</td>\n",
       "      <td>22777</td>\n",
       "    </tr>\n",
       "    <tr>\n",
       "      <th>...</th>\n",
       "      <td>...</td>\n",
       "      <td>...</td>\n",
       "      <td>...</td>\n",
       "      <td>...</td>\n",
       "      <td>...</td>\n",
       "      <td>...</td>\n",
       "      <td>...</td>\n",
       "    </tr>\n",
       "    <tr>\n",
       "      <th>1281</th>\n",
       "      <td>USED</td>\n",
       "      <td>2013</td>\n",
       "      <td>Volkswagen</td>\n",
       "      <td>Jetta</td>\n",
       "      <td>SE PZEV</td>\n",
       "      <td>39233</td>\n",
       "      <td>14599</td>\n",
       "    </tr>\n",
       "    <tr>\n",
       "      <th>1282</th>\n",
       "      <td>USED</td>\n",
       "      <td>2013</td>\n",
       "      <td>Volkswagen</td>\n",
       "      <td>Jetta</td>\n",
       "      <td>SE PZEV</td>\n",
       "      <td>35939</td>\n",
       "      <td>13599</td>\n",
       "    </tr>\n",
       "    <tr>\n",
       "      <th>1283</th>\n",
       "      <td>USED</td>\n",
       "      <td>2013</td>\n",
       "      <td>Volkswagen</td>\n",
       "      <td>Jetta</td>\n",
       "      <td>SE PZEV</td>\n",
       "      <td>31768</td>\n",
       "      <td>14200</td>\n",
       "    </tr>\n",
       "    <tr>\n",
       "      <th>1284</th>\n",
       "      <td>USED</td>\n",
       "      <td>2012</td>\n",
       "      <td>Volkswagen</td>\n",
       "      <td>Jetta</td>\n",
       "      <td>S</td>\n",
       "      <td>65985</td>\n",
       "      <td>13495</td>\n",
       "    </tr>\n",
       "    <tr>\n",
       "      <th>1285</th>\n",
       "      <td>USED</td>\n",
       "      <td>2012</td>\n",
       "      <td>Volkswagen</td>\n",
       "      <td>Jetta</td>\n",
       "      <td>SE PZEV</td>\n",
       "      <td>77199</td>\n",
       "      <td>13000</td>\n",
       "    </tr>\n",
       "  </tbody>\n",
       "</table>\n",
       "<p>1286 rows × 7 columns</p>\n",
       "</div>"
      ],
      "text/plain": [
       "      type  year        make  model                trim  mileage  price\n",
       "0     USED  2010       Acura     TL                Base    73936  19388\n",
       "1     USED  2012       Acura    MDX  Technology Package    32453  34898\n",
       "2     USED  2010       Acura     TL                Base    34302  22000\n",
       "3     USED  2009       Acura     TL              SH-AWD    98772  17988\n",
       "4     USED  2007       Acura    MDX                Base    65677  22777\n",
       "...    ...   ...         ...    ...                 ...      ...    ...\n",
       "1281  USED  2013  Volkswagen  Jetta             SE PZEV    39233  14599\n",
       "1282  USED  2013  Volkswagen  Jetta             SE PZEV    35939  13599\n",
       "1283  USED  2013  Volkswagen  Jetta             SE PZEV    31768  14200\n",
       "1284  USED  2012  Volkswagen  Jetta                   S    65985  13495\n",
       "1285  USED  2012  Volkswagen  Jetta             SE PZEV    77199  13000\n",
       "\n",
       "[1286 rows x 7 columns]"
      ]
     },
     "execution_count": 2,
     "metadata": {},
     "output_type": "execute_result"
    }
   ],
   "source": [
    "cars_df = pd.read_csv(\"https://raw.githubusercontent.com/stanford-mse-125/homework/main/data/used_cars.csv\")\n",
    "cars_df"
   ]
  },
  {
   "attachments": {},
   "cell_type": "markdown",
   "metadata": {},
   "source": [
    "**Part (a)**: Let's look at only the data for Honda Accords. Make a scatter plot which shows the relationship between the value of an Accord and the mileage, with mileage on the x-axis and value on the y-axis."
   ]
  },
  {
   "cell_type": "code",
   "execution_count": 3,
   "metadata": {},
   "outputs": [
    {
     "data": {
      "text/plain": [
       "<Axes: xlabel='mileage', ylabel='price'>"
      ]
     },
     "execution_count": 3,
     "metadata": {},
     "output_type": "execute_result"
    },
    {
     "data": {
      "image/png": "[encoded data removed]",
      "text/plain": [
       "<Figure size 640x480 with 1 Axes>"
      ]
     },
     "metadata": {},
     "output_type": "display_data"
    }
   ],
   "source": [
    "# ---------------- Question 1 (b) -------------- #\n",
    "\n",
    "accord_df = cars_df[cars_df[\"model\"] == \"Accord\"]\n",
    "sns.scatterplot(data=accord_df, x=\"mileage\", y=\"price\")\n",
    "\n",
    "# ---------------------------------------------- #"
   ]
  },
  {
   "attachments": {},
   "cell_type": "markdown",
   "metadata": {},
   "source": [
    "**Part (b)**: Your plot from part (a) should reveal a pretty strong negative correlation between mileage and price in Honda Accords. But how strong is this correlation? Generate a point estimate as well as a 95% confidence interval for the correlation between mileage and price in Honda Accords, and interpret the resulting confidence interval. You may use any procedure we've learned for generating the confidence interval."
   ]
  },
  {
   "cell_type": "code",
   "execution_count": 5,
   "metadata": {},
   "outputs": [
    {
     "name": "stdout",
     "output_type": "stream",
     "text": [
      "Point estimate for correlation: -0.8626\n",
      "Percentile CI: (-0.9019, -0.8221)\n",
      "Normal Approximation CI: (-0.9048, -0.8254)\n"
     ]
    }
   ],
   "source": [
    "# Set seed\n",
    "np.random.seed(10)\n",
    "\n",
    "# -------  Write code below ---------- #\n",
    "\n",
    "corr = accord_df[[\"mileage\", \"price\"]].corr().iloc[0, 1]\n",
    "print(f\"Point estimate for correlation: {np.round(corr, 4)}\")\n",
    "\n",
    "n_trials = 1000\n",
    "n = accord_df.shape[0]\n",
    "corrs = np.zeros(n_trials)\n",
    "for i in range(n_trials):\n",
    "    sample = accord_df.sample(n=n, replace=True)\n",
    "    corrs[i] = sample[[\"mileage\", \"price\"]].corr().iloc[0, 1]\n",
    "\n",
    "\n",
    "# Using the Percentile method\n",
    "print(f\"Percentile CI: ({np.round(np.percentile(corrs, 2.5), 4)}, {np.round(np.percentile(corrs, 97.5), 4)})\")\n",
    "\n",
    "# Using the normal approximation method\n",
    "boot_mean = corrs.mean()\n",
    "boot_std = corrs.std()\n",
    "print(f\"Normal Approximation CI: {(np.round(boot_mean - 1.96*boot_std, 4), np.round(boot_mean + 1.96*boot_std, 4))}\")"
   ]
  },
  {
   "attachments": {},
   "cell_type": "markdown",
   "metadata": {},
   "source": [
    "## Question 3: Accord Data Regression\n",
    "\n",
    "**Part (a)**: Use `statsmodels` to fit a linear regression model predicting the price of an Accord from the mileage of the car (plus an intercept term). Print out a summary of the model. "
   ]
  },
  {
   "cell_type": "code",
   "execution_count": 27,
   "metadata": {},
   "outputs": [
    {
     "name": "stdout",
     "output_type": "stream",
     "text": [
      "                            OLS Regression Results                            \n",
      "==============================================================================\n",
      "Dep. Variable:                  price   R-squared:                       0.744\n",
      "Model:                            OLS   Adj. R-squared:                  0.742\n",
      "Method:                 Least Squares   F-statistic:                     348.9\n",
      "Date:                Mon, 06 Feb 2023   Prob (F-statistic):           2.58e-37\n",
      "Time:                        11:27:52   Log-Likelihood:                -1122.7\n",
      "No. Observations:                 122   AIC:                             2249.\n",
      "Df Residuals:                     120   BIC:                             2255.\n",
      "Df Model:                           1                                         \n",
      "Covariance Type:            nonrobust                                         \n",
      "==============================================================================\n",
      "                 coef    std err          t      P>|t|      [0.025      0.975]\n",
      "------------------------------------------------------------------------------\n",
      "const       2.068e+04    399.474     51.757      0.000    1.99e+04    2.15e+04\n",
      "mileage       -0.0878      0.005    -18.678      0.000      -0.097      -0.079\n",
      "==============================================================================\n",
      "Omnibus:                       11.055   Durbin-Watson:                   1.914\n",
      "Prob(Omnibus):                  0.004   Jarque-Bera (JB):               25.418\n",
      "Skew:                           0.215   Prob(JB):                     3.02e-06\n",
      "Kurtosis:                       5.194   Cond. No.                     1.55e+05\n",
      "==============================================================================\n",
      "\n",
      "Notes:\n",
      "[1] Standard Errors assume that the covariance matrix of the errors is correctly specified.\n",
      "[2] The condition number is large, 1.55e+05. This might indicate that there are\n",
      "strong multicollinearity or other numerical problems.\n"
     ]
    }
   ],
   "source": [
    "# ------------- Question 2 (a) ----------------- #\n",
    "\n",
    "X = sm.add_constant(accord_df[[\"mileage\"]])\n",
    "y = accord_df[\"price\"]\n",
    "lm = sm.OLS(y, X).fit()\n",
    "print(lm.summary())\n",
    "\n",
    "# -------------------------------------------- #"
   ]
  },
  {
   "attachments": {},
   "cell_type": "markdown",
   "metadata": {},
   "source": [
    "**Part (b)**: What are the coefficients from the fitted model? Write the fitted regression equation, and interpret these coefficients in the context of the problem. "
   ]
  },
  {
   "attachments": {},
   "cell_type": "markdown",
   "metadata": {},
   "source": [
    "Answer to Question 2 (b): The coefficients are $\\hat{\\beta}_0 = 20,680$ and $\\hat{\\beta}_1 = -0.0878$, giving a fitted regression equation of \n",
    "\n",
    "<center>\n",
    "Predicted Price = 20680 - 0.0878 mileage.\n",
    "</center>\n",
    "\n",
    "Here the estimate for $\\hat{\\beta}_1$ means that for each additional mile an Accord is driven, we estimate that its value will decrease by about 9 cents. The estimate for $\\hat{\\beta}_0$ means that a brand new Accord (0 mileage) is estimated to be \\$20,680. "
   ]
  },
  {
   "attachments": {},
   "cell_type": "markdown",
   "metadata": {},
   "source": [
    "**Part (c)**: Recreate the scatter plot from Part (b), but now also with the fitted regression line. Does the regression line appear to fit the data well? Use appropriate information from the summary output to support your conclusion."
   ]
  },
  {
   "cell_type": "code",
   "execution_count": 10,
   "metadata": {},
   "outputs": [
    {
     "data": {
      "text/plain": [
       "<AxesSubplot:xlabel='mileage', ylabel='price'>"
      ]
     },
     "execution_count": 10,
     "metadata": {},
     "output_type": "execute_result"
    },
    {
     "data": {
      "image/png": "[encoded data removed]",
      "text/plain": [
       "<Figure size 432x288 with 1 Axes>"
      ]
     },
     "metadata": {},
     "output_type": "display_data"
    }
   ],
   "source": [
    "# ------------- Question 2 (c) ----------------- #\n",
    "\n",
    "sns.regplot(data=accord_df, x=\"mileage\", y=\"price\", line_kws={\"color\": \"red\"})\n",
    "\n",
    "# ---------------------------------------------- #"
   ]
  },
  {
   "attachments": {},
   "cell_type": "markdown",
   "metadata": {},
   "source": [
    "This regression does appear to fit the data well. This is supported by the fact that the model $R^2$ is 0.744, meaning the regression line captures a significant portion of the variance of the data."
   ]
  },
  {
   "attachments": {},
   "cell_type": "markdown",
   "metadata": {},
   "source": [
    "**Part (d)** Now you want to get an estimate for how much money your Accord is worth. Suppose your Accord has been driven for 50,000 miles. Use the fitted model to predict how much your car is worth. Round your prediction to the nearest dollar using `np.round`. "
   ]
  },
  {
   "cell_type": "code",
   "execution_count": 15,
   "metadata": {},
   "outputs": [
    {
     "data": {
      "text/plain": [
       "16285.0"
      ]
     },
     "execution_count": 15,
     "metadata": {},
     "output_type": "execute_result"
    }
   ],
   "source": [
    "# ------------- Question 2 (c) ----------------- #\n",
    "\n",
    "pred = lm.predict(np.array([[1, 50000]]))[0]\n",
    "np.round(pred)\n",
    "\n",
    "# ---------------------------------------------- #"
   ]
  }
 ],
 "metadata": {
  "kernelspec": {
   "display_name": "Python 3",
   "language": "python",
   "name": "python3"
  },
  "language_info": {
   "codemirror_mode": {
    "name": "ipython",
    "version": 3
   },
   "file_extension": ".py",
   "mimetype": "text/x-python",
   "name": "python",
   "nbconvert_exporter": "python",
   "pygments_lexer": "ipython3",
   "version": "3.11.2"
  },
  "orig_nbformat": 4,
  "vscode": {
   "interpreter": {
    "hash": "aee8b7b246df8f9039afb4144a1f6fd8d2ca17a180786b69acc140d282b71a49"
   }
  }
 },
 "nbformat": 4,
 "nbformat_minor": 2
}
