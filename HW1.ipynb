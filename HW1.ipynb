{
 "cells": [
  {
   "cell_type": "markdown",
   "metadata": {
    "id": "yiTChbVUA47i"
   },
   "source": [
    "# HW 1: Python, Pandas, and Visualization (Due 4/14 11:59pm)\n",
    "\n",
    "Welcome to MS&E 125 HW1! See the HW logistics below, and then answer each question in the homework.\n",
    "\n",
    "### HW Logistics\n",
    "\n",
    "- **Release**: HW1 will be due next **Friday 4/14 at 11:59pm** and HW2 will be due **Wednesday 4/19 at 11:59pm**. Going forward, every week there will be a HW assignment released on *Wednesday* and due the following *Tuesday at 11:59pm*. \n",
    "Homework will be posted to the course website. \n",
    "- **Format**: We expect students to complete the homework notebooks using Google Colab (see Discussion 1), but this is not explicitly required and you may use whatever software you would like to run notebooks. \n",
    "- **Answers**: As a general guiding policy, you should always try to make it as clear as possible what your answer to each question is, and how you arrived at your answer. Generally speaking, this will mean including all code used to generate results, outputting the actual results to the notebook, and (when necessary) including written answers to support your code.\n",
    "- **Submission**: Homeworks will be *submitted to Gradescope*, and we expect all students to do question matching on Gradescope upon submission.\n",
    "- **Late Policy**: All students are allowed 7 total slip days for the quarter, and at most 5 can be used for a single HW assignment. There will be no late credit if you have used up all your slip days. Also, your lowest HW grade will be dropped."
   ]
  },
  {
   "cell_type": "markdown",
   "metadata": {},
   "source": [
    "### Use of Large Language Models\n",
    "\n",
    "The course policy is that you are allowed to use large language models such as ChatGPT to assist you in completing the homework. However, you **must** do the following: 1) Cite the LLM you are using 2) Explain how you are using it (in a paragraph at the end of your homework) 3) ~~Type every character yourself (i.e. no copying and pasting).~~UPDATE: Tab-completing code via CodeSquire or equivalent is allowed. You do not need to re-type autocompleted CodeSquire output. We are relying on the honor code to make sure you abide by the above rules."
   ]
  },
  {
   "cell_type": "markdown",
   "metadata": {},
   "source": [
    "#### **Copying Notebooks (important)**\n",
    "\n",
    "As was the case for Discussion 1, if you go to save this notebook, you will be told that you need to make a copy of the notebook to your personal google drive in order to edit and run the notebook. Thus, at the beginning of each homework, you will need to **make a copy of the notebook to your personal Google Drive** by clicking File -> Save a copy in Drive. "
   ]
  },
  {
   "cell_type": "markdown",
   "metadata": {
    "id": "iRsTXjn_BCSR"
   },
   "source": [
    "## Question 1\n",
    "\n",
    "One reason (of many) that statistics is awesome is that it is used in some many different applications. Choose 1 job title or work industry that you could see yourself pursuing after graduation, and explain how statistics would be useful in this position/industry. There's no right answer! We just want you to start thinking about why these skills will be useful for you in the future :)"
   ]
  },
  {
   "cell_type": "markdown",
   "metadata": {
    "id": "YmUOOQYwDYRU"
   },
   "source": [
    "## Question 2\n",
    "\n",
    "On the course website, you will find a file `census.csv` which contains a small amount of data from the 2000 census. Download the file by clicking on the link, and then unzipping the resulting `.zip` file. Upload the file to your Google Colab environment by clicking the Folder icon on the left side and then clicking the \"Upload to storage session\" button (under \"Files\" the leftmost button). Keep in mind that Google Colab will refresh the local storage each time the session is renewed, so you may need to re-upload files occassionally.\n",
    "\n",
    "**Part (a)**: Now that the file is uploaded, read the data into a pandas dataframe, and print out the resulting dataframe. "
   ]
  },
  {
   "cell_type": "markdown",
   "metadata": {},
   "source": [
    "**Part (b)**: You should notice that something is wrong with the dataframe you created in part (a). Specifically, there is a problem with the csv file that is causing pandas to read the data incorrectly. Identify the issue that is causing the error. "
   ]
  },
  {
   "cell_type": "markdown",
   "metadata": {},
   "source": [
    "**Part (c)**: Fix the csv file, creating a new csv file called `census_corrected.csv`. Upload the corrected csv to your Colab environment, read in the corrected data, and print out the resulting corrected dataframe."
   ]
  },
  {
   "cell_type": "markdown",
   "metadata": {
    "id": "u8nMEFKua0ju"
   },
   "source": [
    "## Question 3\n",
    "\n",
    "As always, it is important to do some exploratory data analysis. \n",
    "\n",
    "Answer the following:\n",
    "- How many rows and columns are there in the data?\n",
    "- How many unique values are there in the \"race\" column?\n",
    "- What is the mean and standard deviation of age and total_family_income?\n",
    "- Are there any missing values in the data? Print whether or not each column has any missing values.\n",
    "\n",
    "Write your answers in the text cell below, and also include the code used to generate your answers in a code cell."
   ]
  },
  {
   "cell_type": "markdown",
   "metadata": {
    "id": "9oL1DTIOEITI"
   },
   "source": [
    "## Question 4\n",
    "\n",
    "Let's do some plotting to continue our EDA process.\n",
    "\n",
    "**Part (a)**: Make a plot to assess the distribution of total_personal_income in the data. Describe the distribution using your plot."
   ]
  },
  {
   "cell_type": "markdown",
   "metadata": {},
   "source": [
    "**Part (b)**: Make a plot to assess whether or not there is a relationship between age and total_personal_income in the data. Use your plot to assess whether or not you think such a relationship exists."
   ]
  },
  {
   "cell_type": "markdown",
   "metadata": {},
   "source": [
    "**Part (c)**: Make a plot to see if there is a relationship between sex and total personal income, and again interpret your plot."
   ]
  },
  {
   "cell_type": "markdown",
   "metadata": {},
   "source": [
    "**Part (d)**: Make a plot comparing age and total_personal_income as in part (a), but this time stratify by sex as well, in order to see whether or not sex impacts the relationship between age and income. Interpret your plot."
   ]
  },
  {
   "cell_type": "markdown",
   "metadata": {
    "id": "MSe9IyjlE0-c"
   },
   "source": [
    "## Question 5\n",
    "\n",
    "**Part (a)**: Pick a dataset you are interested in exploring more. This dataset could come from anywhere, but if you are looking for inspiration, some resources to consider are:\n",
    "\n",
    "- [OpenIntro](https://www.openintro.org/data/)\n",
    "- Kaggle: [this list](https://www.kaggle.com/code/rtatman/fun-beginner-friendly-datasets) or googling \"{topic of interest} data kaggle\".\n",
    "\n",
    "You may pick a dataset which you end up using for your project, but that is certainly not required! Upload a csv of your data to Colab, read the data into a dataframe and print the resulting dataframe."
   ]
  },
  {
   "cell_type": "markdown",
   "metadata": {},
   "source": [
    "**Part (b)**: Pose a question that you would be interested in asking about your data."
   ]
  },
  {
   "cell_type": "markdown",
   "metadata": {},
   "source": [
    "**Part (c)**: Run at least 1 calculation and 1 visualization to answer your question from part (b)."
   ]
  }
 ],
 "metadata": {
  "colab": {
   "provenance": []
  },
  "kernelspec": {
   "display_name": "Python 3",
   "language": "python",
   "name": "python3"
  },
  "language_info": {
   "codemirror_mode": {
    "name": "ipython",
    "version": 3
   },
   "file_extension": ".py",
   "mimetype": "text/x-python",
   "name": "python",
   "nbconvert_exporter": "python",
   "pygments_lexer": "ipython3",
   "version": "3.8.8"
  }
 },
 "nbformat": 4,
 "nbformat_minor": 1
}
