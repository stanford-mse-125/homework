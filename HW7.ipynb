{
 "cells": [
  {
   "cell_type": "markdown",
   "metadata": {},
   "source": [
    "# Homework 7: Model Selection\n",
    "\n",
    "**Due**: Monday May 29th\n",
    "\n",
    "- **Format**: We expect students to complete the homework notebooks using Google Colab (see Discussion 1), but this is not explicitly required and you may use whatever software you would like to run notebooks. \n",
    "- **Answers**: As a general guiding policy, you should always try to make it as clear as possible what your answer to each question is, and how you arrived at your answer. Generally speaking, this will mean including all code used to generate results, outputting the actual results to the notebook, and (when necessary) including written answers to support your code.\n",
    "- **Submission**: Homeworks will be *submitted to Gradescope*, and we expect all students to do question matching on Gradescope upon submission.\n",
    "- **Late Policy**: All students are allowed 7 total slip days for the quarter, and at most 5 can be used for a single HW assignment. There will be no late credit if you have used up all your slip days. Also, your lowest HW grade will be dropped."
   ]
  },
  {
   "cell_type": "code",
   "execution_count": 2,
   "metadata": {},
   "outputs": [],
   "source": [
    "import numpy as np \n",
    "import pandas as pd\n",
    "import matplotlib.pyplot as plt\n",
    "import seaborn as sns\n",
    "import statsmodels.api as sm\n",
    "import statsmodels.formula.api as smf\n",
    "import patsy\n",
    "sns.set_style()"
   ]
  },
  {
   "cell_type": "markdown",
   "metadata": {},
   "source": [
    "## Question 1: Identifying Bias and Variance\n",
    "\n",
    "For each of the comparisons below, identify which model has higher bias and which model has higher variance. Explain your reasoning.\n",
    "\n",
    "**Part (a)**: Suppose $y \\sim \\beta_0 + \\beta_1 x + \\epsilon$, where $\\epsilon \\sim N(0,\\sigma^2)$. \n",
    "\n",
    "We train two models on a sample of $n$ randomly generated $y_i$'s.\n",
    "1. The first model is fit via least squares and has the fitted form $\\hat{y} = \\hat{\\beta}_0$. \n",
    "2. The second model has the fitted form $\\hat{y} = y_1$."
   ]
  },
  {
   "cell_type": "markdown",
   "metadata": {},
   "source": [
    "**Part (b)**: Suppose we have the same data as in part (a).\n",
    "\n",
    "We fit two models via least squares:\n",
    "1. The first model's fitted form is $\\hat{y} = \\hat{\\beta}_0 + \\hat{\\beta}_1 x + \\hat{\\beta}_2 x^2 + \\cdots + \\hat{\\beta}_{n-1} x^{n-1}$.\n",
    "2. The second model's fitted form is $\\hat{y} = \\hat{\\beta}_0 + \\hat{\\beta}_1 x + \\hat{\\beta}_2 x^2 + \\cdots + \\hat{\\beta}_{n-2} x^{n-2}$."
   ]
  },
  {
   "cell_type": "markdown",
   "metadata": {},
   "source": [
    "**Part (c)**: Now suppose $y \\sim \\beta_0 + \\beta_1 x + \\beta_2 x^2 + \\epsilon$, where $\\epsilon \\sim N(0,\\sigma^2)$. Further suppose $z \\sim \\beta_0 + \\beta_1 x + \\beta_2 x^2 + \\beta_3 x^3 + \\epsilon$, where $\\epsilon \\sim N(0,\\sigma^2)$.\n",
    "\n",
    "We fit two models via least squares:\n",
    "1. The first model's fitted form is $\\hat{y} = \\hat{\\beta}_0 + \\hat{\\beta}_1 x + \\hat{\\beta}_2 x^2 + \\hat{\\beta}_3 x^3$.\n",
    "2. The second model's fitted form is $\\hat{z} = \\hat{\\beta}_0 + \\hat{\\beta}_1 x + \\hat{\\beta}_2 x^2$."
   ]
  },
  {
   "cell_type": "markdown",
   "metadata": {},
   "source": [
    "## Question 2: Bias and Variance of Linear Regression\n",
    "\n",
    "In this question, we will explore the bias-variance tradeoff for a simple linear regression model."
   ]
  },
  {
   "cell_type": "markdown",
   "metadata": {},
   "source": [
    "**Part (a)**: Consider simple linear regression data $(x_1, y_1), \\ldots, (x_n, y_n)$ that has been standardized so that $\\sum_i x_i = 0, \\sum_i x_i^2 = 1, \\sum_i y_i = 0, \\sum_i y_i^2 = 1$. What are the resulting least squares estimates for $\\beta_0$ and $\\beta_1$ on this standardized data?\n",
    "\n",
    "*Hint*: You may start from the formula's for $\\beta_1$ and $\\beta_0$ that are in the lecture notes, and simplify using the extra assumption that the data is standardized.  "
   ]
  },
  {
   "cell_type": "markdown",
   "metadata": {},
   "source": [
    "**Part (b)**: Under the probabilistic model $y = \\beta_1 x + \\epsilon$, where $\\epsilon \\sim N(0, \\sigma^2)$, show that the prediction $\\hat{y} = \\hat{\\beta}_1 x$ is an unbiased predictor of $y$. \n",
    "\n",
    "*Hint:* In the standard linear regression model, $x$ is not random, only $\\epsilon$ is random."
   ]
  },
  {
   "cell_type": "markdown",
   "metadata": {},
   "source": [
    "**Part (c)**: Why is it possible that $\\hat{y}$ is unbiased is part (b), and yet linear regression models can have high bias?"
   ]
  },
  {
   "cell_type": "markdown",
   "metadata": {},
   "source": [
    "## Question 3: Model Selection\n",
    "\n",
    "Let's return to the cars data that we looked at for HW6."
   ]
  },
  {
   "cell_type": "code",
   "execution_count": 4,
   "metadata": {},
   "outputs": [],
   "source": [
    "cars_df = pd.read_csv(\"https://raw.githubusercontent.com/stanford-mse-125/homework/main/data/used_cars.csv\")\n",
    "honda_df = cars_df[cars_df[\"make\"] == \"Honda\"]"
   ]
  },
  {
   "cell_type": "markdown",
   "metadata": {},
   "source": [
    "**Part (a)**: Recall from HW6 that we used polynomial regression in order to predict price from mileage for Honda cars. \n",
    "\n",
    "Use 5-fold cross validation to estimate the out-of-sample RMSE of the following models:\n",
    "\n",
    "- Linear: $\\widehat{\\text{price}}$ = $\\beta_0$ + $\\beta_1$ $\\cdot$ $\\text{mileage}$\n",
    "- Quadratic: $\\widehat{\\text{price}}$ = $\\beta_0$ + $\\beta_1$ $\\cdot$ $\\text{mileage}$ + $\\beta_2$ $\\cdot$ $\\text{mileage}^2$\n",
    "- Cubic: $\\widehat{\\text{price}}$ = $\\beta_0$ + $\\beta_1$ $\\cdot$ $\\text{mileage}$ + $\\beta_2$ $\\cdot$ $\\text{mileage}^2$+ $\\beta_3$ $\\cdot$ $\\text{mileage}^3$\n",
    "- Quartic: $\\widehat{\\text{price}}$ = $\\beta_0$ + $\\beta_1$ $\\cdot$ $\\text{mileage}$ + $\\beta_2$ $\\cdot$ $\\text{mileage}^2$ + $\\beta_3$ $\\cdot$ $\\text{mileage}^3$ + $\\beta_4$ $\\cdot$ $\\text{mileage}^4$\n",
    "\n",
    "What model do you think is the best model for the data, based on the results of cross-validation?"
   ]
  },
  {
   "cell_type": "markdown",
   "metadata": {},
   "source": [
    "**Part (b)**: Repeat part (a), but for each linear model, also add in terms for $\\text{year}$ and $\\text{model}$ of the Honda. Do the results change? If so, how?"
   ]
  }
 ],
 "metadata": {
  "kernelspec": {
   "display_name": "Python 3",
   "language": "python",
   "name": "python3"
  },
  "language_info": {
   "codemirror_mode": {
    "name": "ipython",
    "version": 3
   },
   "file_extension": ".py",
   "mimetype": "text/x-python",
   "name": "python",
   "nbconvert_exporter": "python",
   "pygments_lexer": "ipython3",
   "version": "3.8.8"
  }
 },
 "nbformat": 4,
 "nbformat_minor": 2
}
