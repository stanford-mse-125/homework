{
  "cells": [
    {
      "attachments": {},
      "cell_type": "markdown",
      "metadata": {
        "id": "oGZfUFDh2VBU"
      },
      "source": [
        "# HW2: Using Pandas for Stock Analysis\n",
        "\n",
        "**Due**: Tuesday Apr 18th"
      ]
    },
    {
      "attachments": {},
      "cell_type": "markdown",
      "metadata": {},
      "source": [
        "### HW Logistics\n",
        "\n",
        "- **Release**: Every week there will be a HW assignment released on *Wednesday* and due the following *Tuesday at 11:59pm*. \n",
        "Homework will be posted to the course website. \n",
        "- **Format**: We expect students to complete the homework notebooks using Google Colab (see Discussion 1), but this is not explicitly required and you may use whatever software you would like to run notebooks. \n",
        "- **Answers**: As a general guiding policy, you should always try to make it as clear as possible what your answer to each question is, and how you arrived at your answer. Generally speaking, this will mean including all code used to generate results, outputting the actual results to the notebook, and (when necessary) including written answers to support your code.\n",
        "- **Submission**: Homeworks will be *submitted to Gradescope*, and we expect all students to do question matching on Gradescope upon submission.\n",
        "- **Late Policy**: All students are allowed 7 total slip days for the quarter, and at most 5 can be used for a single HW assignment. There will be no late credit if you have used up all your slip days. Also, your lowest HW grade will be dropped."
      ]
    },
    {
      "attachments": {},
      "cell_type": "markdown",
      "metadata": {},
      "source": [
        "#### **Copying Notebooks (important)**\n",
        "\n",
        "As was the case for Discussion 1, if you go to save this notebook, you will be told that you need to make a copy of the notebook to your personal google drive in order to edit and run the notebook. Thus, at the beginning of each homework, you will need to **make a copy of the notebook to your personal Google Drive** by clicking File -> Save a copy in Drive."
      ]
    },
    {
      "cell_type": "code",
      "execution_count": 1,
      "metadata": {
        "id": "JAzIx3_pTxDg"
      },
      "outputs": [],
      "source": [
        "import numpy as np \n",
        "import pandas as pd\n",
        "import matplotlib.pyplot as plt \n",
        "import seaborn as sns\n",
        "sns.set_theme()"
      ]
    },
    {
      "attachments": {},
      "cell_type": "markdown",
      "metadata": {
        "id": "EKfpgWn_2iQU"
      },
      "source": [
        "Throughout this HW, you are going to be working with stock data from the New York Stock Exchange. \n",
        "\n",
        "**Question 1**: The data that contains the stock prices over time can be found in the file `stock_prices.csv`. \n",
        "\n",
        "(a) Read the data into a pandas dataframe called `prices_df`, and print the resulting dataframe. "
      ]
    },
    {
      "cell_type": "code",
      "execution_count": 2,
      "metadata": {
        "id": "JOc0GRL3WWz4"
      },
      "outputs": [
        {
          "data": {
            "text/html": [
              "<div>\n",
              "<style scoped>\n",
              "    .dataframe tbody tr th:only-of-type {\n",
              "        vertical-align: middle;\n",
              "    }\n",
              "\n",
              "    .dataframe tbody tr th {\n",
              "        vertical-align: top;\n",
              "    }\n",
              "\n",
              "    .dataframe thead th {\n",
              "        text-align: right;\n",
              "    }\n",
              "</style>\n",
              "<table border=\"1\" class=\"dataframe\">\n",
              "  <thead>\n",
              "    <tr style=\"text-align: right;\">\n",
              "      <th></th>\n",
              "      <th>date</th>\n",
              "      <th>symbol</th>\n",
              "      <th>open</th>\n",
              "      <th>close</th>\n",
              "      <th>low</th>\n",
              "      <th>high</th>\n",
              "      <th>volume</th>\n",
              "    </tr>\n",
              "  </thead>\n",
              "  <tbody>\n",
              "    <tr>\n",
              "      <th>0</th>\n",
              "      <td>2010-01-04</td>\n",
              "      <td>AET</td>\n",
              "      <td>32.060001</td>\n",
              "      <td>33.000000</td>\n",
              "      <td>31.870001</td>\n",
              "      <td>33.080002</td>\n",
              "      <td>5671300.0</td>\n",
              "    </tr>\n",
              "    <tr>\n",
              "      <th>1</th>\n",
              "      <td>2010-01-04</td>\n",
              "      <td>ATVI</td>\n",
              "      <td>11.230000</td>\n",
              "      <td>11.300000</td>\n",
              "      <td>11.150000</td>\n",
              "      <td>11.450000</td>\n",
              "      <td>9306600.0</td>\n",
              "    </tr>\n",
              "    <tr>\n",
              "      <th>2</th>\n",
              "      <td>2010-01-04</td>\n",
              "      <td>BBBY</td>\n",
              "      <td>39.369999</td>\n",
              "      <td>39.029999</td>\n",
              "      <td>39.000000</td>\n",
              "      <td>39.500000</td>\n",
              "      <td>2971500.0</td>\n",
              "    </tr>\n",
              "    <tr>\n",
              "      <th>3</th>\n",
              "      <td>2010-01-04</td>\n",
              "      <td>PNC</td>\n",
              "      <td>53.740002</td>\n",
              "      <td>53.509998</td>\n",
              "      <td>53.200001</td>\n",
              "      <td>54.099998</td>\n",
              "      <td>4890300.0</td>\n",
              "    </tr>\n",
              "    <tr>\n",
              "      <th>4</th>\n",
              "      <td>2010-01-05</td>\n",
              "      <td>AET</td>\n",
              "      <td>32.939999</td>\n",
              "      <td>32.529999</td>\n",
              "      <td>32.259998</td>\n",
              "      <td>33.099998</td>\n",
              "      <td>4573600.0</td>\n",
              "    </tr>\n",
              "    <tr>\n",
              "      <th>...</th>\n",
              "      <td>...</td>\n",
              "      <td>...</td>\n",
              "      <td>...</td>\n",
              "      <td>...</td>\n",
              "      <td>...</td>\n",
              "      <td>...</td>\n",
              "      <td>...</td>\n",
              "    </tr>\n",
              "    <tr>\n",
              "      <th>7043</th>\n",
              "      <td>2016-12-29</td>\n",
              "      <td>PNC</td>\n",
              "      <td>117.279999</td>\n",
              "      <td>116.099998</td>\n",
              "      <td>115.360001</td>\n",
              "      <td>117.610001</td>\n",
              "      <td>1542300.0</td>\n",
              "    </tr>\n",
              "    <tr>\n",
              "      <th>7044</th>\n",
              "      <td>2016-12-30</td>\n",
              "      <td>AET</td>\n",
              "      <td>124.559998</td>\n",
              "      <td>124.010002</td>\n",
              "      <td>123.169998</td>\n",
              "      <td>124.739998</td>\n",
              "      <td>1588100.0</td>\n",
              "    </tr>\n",
              "    <tr>\n",
              "      <th>7045</th>\n",
              "      <td>2016-12-30</td>\n",
              "      <td>ATVI</td>\n",
              "      <td>36.529999</td>\n",
              "      <td>36.110001</td>\n",
              "      <td>35.950001</td>\n",
              "      <td>36.560001</td>\n",
              "      <td>5090500.0</td>\n",
              "    </tr>\n",
              "    <tr>\n",
              "      <th>7046</th>\n",
              "      <td>2016-12-30</td>\n",
              "      <td>BBBY</td>\n",
              "      <td>40.950001</td>\n",
              "      <td>40.639999</td>\n",
              "      <td>40.439999</td>\n",
              "      <td>41.419998</td>\n",
              "      <td>1923800.0</td>\n",
              "    </tr>\n",
              "    <tr>\n",
              "      <th>7047</th>\n",
              "      <td>2016-12-30</td>\n",
              "      <td>PNC</td>\n",
              "      <td>116.209999</td>\n",
              "      <td>116.959999</td>\n",
              "      <td>115.919998</td>\n",
              "      <td>117.160004</td>\n",
              "      <td>1624900.0</td>\n",
              "    </tr>\n",
              "  </tbody>\n",
              "</table>\n",
              "<p>7048 rows × 7 columns</p>\n",
              "</div>"
            ],
            "text/plain": [
              "            date symbol        open       close         low        high  \\\n",
              "0     2010-01-04    AET   32.060001   33.000000   31.870001   33.080002   \n",
              "1     2010-01-04   ATVI   11.230000   11.300000   11.150000   11.450000   \n",
              "2     2010-01-04   BBBY   39.369999   39.029999   39.000000   39.500000   \n",
              "3     2010-01-04    PNC   53.740002   53.509998   53.200001   54.099998   \n",
              "4     2010-01-05    AET   32.939999   32.529999   32.259998   33.099998   \n",
              "...          ...    ...         ...         ...         ...         ...   \n",
              "7043  2016-12-29    PNC  117.279999  116.099998  115.360001  117.610001   \n",
              "7044  2016-12-30    AET  124.559998  124.010002  123.169998  124.739998   \n",
              "7045  2016-12-30   ATVI   36.529999   36.110001   35.950001   36.560001   \n",
              "7046  2016-12-30   BBBY   40.950001   40.639999   40.439999   41.419998   \n",
              "7047  2016-12-30    PNC  116.209999  116.959999  115.919998  117.160004   \n",
              "\n",
              "         volume  \n",
              "0     5671300.0  \n",
              "1     9306600.0  \n",
              "2     2971500.0  \n",
              "3     4890300.0  \n",
              "4     4573600.0  \n",
              "...         ...  \n",
              "7043  1542300.0  \n",
              "7044  1588100.0  \n",
              "7045  5090500.0  \n",
              "7046  1923800.0  \n",
              "7047  1624900.0  \n",
              "\n",
              "[7048 rows x 7 columns]"
            ]
          },
          "execution_count": 2,
          "metadata": {},
          "output_type": "execute_result"
        }
      ],
      "source": [
        "# -------- Question 1 (a) ---------- #\n",
        "\n",
        "prices_df = prices_df = pd.read_csv(\"data/stock_prices.csv\")\n",
        "prices_df\n",
        "\n",
        "# ---------------------------------- #"
      ]
    },
    {
      "attachments": {},
      "cell_type": "markdown",
      "metadata": {
        "id": "1nU-GO7rWn_Z"
      },
      "source": [
        "(b) Answer the following questions about the dataset:\n",
        "- How many rows are in the dataset? What does one row represent?\n",
        "- How many columns are in the dataset? What does one column represent?\n",
        "- For each column in the dataset, describe what the column most likely represents. Since you don't have documentation to refer to, we don't expect exact answers, but you should be able to roughly figure out what each column is."
      ]
    },
    {
      "attachments": {},
      "cell_type": "markdown",
      "metadata": {},
      "source": [
        "The data has 7048 rows and 7 columns. Each row represents a stock's performance on a particular day. Each column represents features about the stock/day combination. The columns/features are:\n",
        "- date: the date for the stock information.\n",
        "- symbol: the ticker symbol for the stock.\n",
        "- open: the opening price of the stock on that day.\n",
        "- close: the closing price of the stock on that day.\n",
        "- low: the lowest price of the stock on that day.\n",
        "- high: the highest price of the stock on that day.\n",
        "- volume: the amount of transactions for that stock on that day."
      ]
    },
    {
      "attachments": {},
      "cell_type": "markdown",
      "metadata": {
        "id": "fzYwV_FNWx5H"
      },
      "source": [
        "**Question 2**: Before looking at the price information of different stocks, it is good to know a little information about each stock.\n",
        "\n",
        "(a) A second CSV file, `stock_info.csv`, contains some basic information about stocks in the NYSE. Read in the CSV file and store it as `stock_info_df`. Print out the resulting dataframe."
      ]
    },
    {
      "cell_type": "code",
      "execution_count": 15,
      "metadata": {
        "id": "VUunj4NZhSZC"
      },
      "outputs": [
        {
          "data": {
            "text/html": [
              "<div>\n",
              "<style scoped>\n",
              "    .dataframe tbody tr th:only-of-type {\n",
              "        vertical-align: middle;\n",
              "    }\n",
              "\n",
              "    .dataframe tbody tr th {\n",
              "        vertical-align: top;\n",
              "    }\n",
              "\n",
              "    .dataframe thead th {\n",
              "        text-align: right;\n",
              "    }\n",
              "</style>\n",
              "<table border=\"1\" class=\"dataframe\">\n",
              "  <thead>\n",
              "    <tr style=\"text-align: right;\">\n",
              "      <th></th>\n",
              "      <th>Ticker symbol</th>\n",
              "      <th>Security</th>\n",
              "      <th>SEC filings</th>\n",
              "      <th>GICS Sector</th>\n",
              "      <th>GICS Sub Industry</th>\n",
              "      <th>Address of Headquarters</th>\n",
              "      <th>Date first added</th>\n",
              "      <th>CIK</th>\n",
              "    </tr>\n",
              "  </thead>\n",
              "  <tbody>\n",
              "    <tr>\n",
              "      <th>0</th>\n",
              "      <td>MMM</td>\n",
              "      <td>3M Company</td>\n",
              "      <td>reports</td>\n",
              "      <td>Industrials</td>\n",
              "      <td>Industrial Conglomerates</td>\n",
              "      <td>St. Paul, Minnesota</td>\n",
              "      <td>NaN</td>\n",
              "      <td>66740</td>\n",
              "    </tr>\n",
              "    <tr>\n",
              "      <th>1</th>\n",
              "      <td>ABT</td>\n",
              "      <td>Abbott Laboratories</td>\n",
              "      <td>reports</td>\n",
              "      <td>Health Care</td>\n",
              "      <td>Health Care Equipment</td>\n",
              "      <td>North Chicago, Illinois</td>\n",
              "      <td>1964-03-31</td>\n",
              "      <td>1800</td>\n",
              "    </tr>\n",
              "    <tr>\n",
              "      <th>2</th>\n",
              "      <td>ABBV</td>\n",
              "      <td>AbbVie</td>\n",
              "      <td>reports</td>\n",
              "      <td>Health Care</td>\n",
              "      <td>Pharmaceuticals</td>\n",
              "      <td>North Chicago, Illinois</td>\n",
              "      <td>2012-12-31</td>\n",
              "      <td>1551152</td>\n",
              "    </tr>\n",
              "    <tr>\n",
              "      <th>3</th>\n",
              "      <td>ACN</td>\n",
              "      <td>Accenture plc</td>\n",
              "      <td>reports</td>\n",
              "      <td>Information Technology</td>\n",
              "      <td>IT Consulting &amp; Other Services</td>\n",
              "      <td>Dublin, Ireland</td>\n",
              "      <td>2011-07-06</td>\n",
              "      <td>1467373</td>\n",
              "    </tr>\n",
              "    <tr>\n",
              "      <th>4</th>\n",
              "      <td>ATVI</td>\n",
              "      <td>Activision Blizzard</td>\n",
              "      <td>reports</td>\n",
              "      <td>Information Technology</td>\n",
              "      <td>Home Entertainment Software</td>\n",
              "      <td>Santa Monica, California</td>\n",
              "      <td>2015-08-31</td>\n",
              "      <td>718877</td>\n",
              "    </tr>\n",
              "    <tr>\n",
              "      <th>...</th>\n",
              "      <td>...</td>\n",
              "      <td>...</td>\n",
              "      <td>...</td>\n",
              "      <td>...</td>\n",
              "      <td>...</td>\n",
              "      <td>...</td>\n",
              "      <td>...</td>\n",
              "      <td>...</td>\n",
              "    </tr>\n",
              "    <tr>\n",
              "      <th>500</th>\n",
              "      <td>YHOO</td>\n",
              "      <td>Yahoo Inc.</td>\n",
              "      <td>reports</td>\n",
              "      <td>Information Technology</td>\n",
              "      <td>Internet Software &amp; Services</td>\n",
              "      <td>Sunnyvale, California</td>\n",
              "      <td>NaN</td>\n",
              "      <td>1011006</td>\n",
              "    </tr>\n",
              "    <tr>\n",
              "      <th>501</th>\n",
              "      <td>YUM</td>\n",
              "      <td>Yum! Brands Inc</td>\n",
              "      <td>reports</td>\n",
              "      <td>Consumer Discretionary</td>\n",
              "      <td>Restaurants</td>\n",
              "      <td>Louisville, Kentucky</td>\n",
              "      <td>1997-10-06</td>\n",
              "      <td>1041061</td>\n",
              "    </tr>\n",
              "    <tr>\n",
              "      <th>502</th>\n",
              "      <td>ZBH</td>\n",
              "      <td>Zimmer Biomet Holdings</td>\n",
              "      <td>reports</td>\n",
              "      <td>Health Care</td>\n",
              "      <td>Health Care Equipment</td>\n",
              "      <td>Warsaw, Indiana</td>\n",
              "      <td>NaN</td>\n",
              "      <td>1136869</td>\n",
              "    </tr>\n",
              "    <tr>\n",
              "      <th>503</th>\n",
              "      <td>ZION</td>\n",
              "      <td>Zions Bancorp</td>\n",
              "      <td>reports</td>\n",
              "      <td>Financials</td>\n",
              "      <td>Regional Banks</td>\n",
              "      <td>Salt Lake City, Utah</td>\n",
              "      <td>NaN</td>\n",
              "      <td>109380</td>\n",
              "    </tr>\n",
              "    <tr>\n",
              "      <th>504</th>\n",
              "      <td>ZTS</td>\n",
              "      <td>Zoetis</td>\n",
              "      <td>reports</td>\n",
              "      <td>Health Care</td>\n",
              "      <td>Pharmaceuticals</td>\n",
              "      <td>Florham Park, New Jersey</td>\n",
              "      <td>2013-06-21</td>\n",
              "      <td>1555280</td>\n",
              "    </tr>\n",
              "  </tbody>\n",
              "</table>\n",
              "<p>505 rows × 8 columns</p>\n",
              "</div>"
            ],
            "text/plain": [
              "    Ticker symbol                Security SEC filings             GICS Sector  \\\n",
              "0             MMM              3M Company     reports             Industrials   \n",
              "1             ABT     Abbott Laboratories     reports             Health Care   \n",
              "2            ABBV                  AbbVie     reports             Health Care   \n",
              "3             ACN           Accenture plc     reports  Information Technology   \n",
              "4            ATVI     Activision Blizzard     reports  Information Technology   \n",
              "..            ...                     ...         ...                     ...   \n",
              "500          YHOO              Yahoo Inc.     reports  Information Technology   \n",
              "501           YUM         Yum! Brands Inc     reports  Consumer Discretionary   \n",
              "502           ZBH  Zimmer Biomet Holdings     reports             Health Care   \n",
              "503          ZION           Zions Bancorp     reports              Financials   \n",
              "504           ZTS                  Zoetis     reports             Health Care   \n",
              "\n",
              "                  GICS Sub Industry   Address of Headquarters  \\\n",
              "0          Industrial Conglomerates       St. Paul, Minnesota   \n",
              "1             Health Care Equipment   North Chicago, Illinois   \n",
              "2                   Pharmaceuticals   North Chicago, Illinois   \n",
              "3    IT Consulting & Other Services           Dublin, Ireland   \n",
              "4       Home Entertainment Software  Santa Monica, California   \n",
              "..                              ...                       ...   \n",
              "500    Internet Software & Services     Sunnyvale, California   \n",
              "501                     Restaurants      Louisville, Kentucky   \n",
              "502           Health Care Equipment           Warsaw, Indiana   \n",
              "503                  Regional Banks      Salt Lake City, Utah   \n",
              "504                 Pharmaceuticals  Florham Park, New Jersey   \n",
              "\n",
              "    Date first added      CIK  \n",
              "0                NaN    66740  \n",
              "1         1964-03-31     1800  \n",
              "2         2012-12-31  1551152  \n",
              "3         2011-07-06  1467373  \n",
              "4         2015-08-31   718877  \n",
              "..               ...      ...  \n",
              "500              NaN  1011006  \n",
              "501       1997-10-06  1041061  \n",
              "502              NaN  1136869  \n",
              "503              NaN   109380  \n",
              "504       2013-06-21  1555280  \n",
              "\n",
              "[505 rows x 8 columns]"
            ]
          },
          "execution_count": 15,
          "metadata": {},
          "output_type": "execute_result"
        }
      ],
      "source": [
        "# -------- Question 2 (a) ---------- #\n",
        "\n",
        "stock_info_df = pd.read_csv(\"data/stock_info.csv\")\n",
        "stock_info_df\n",
        "\n",
        "# ---------------------------------- #"
      ]
    },
    {
      "cell_type": "markdown",
      "metadata": {
        "id": "EuHjlTC5g8Fw"
      },
      "source": [
        "(b) Find how many stocks in `stock_info_df` belong to each sector. Your result should contain 1 column for the sector, and 1 column displaying the number of rows in `stock_info_df` for each sector. \n"
      ]
    },
    {
      "cell_type": "code",
      "execution_count": 16,
      "metadata": {
        "id": "UDny0bNnhWdt"
      },
      "outputs": [
        {
          "data": {
            "text/plain": [
              "Consumer Discretionary         85\n",
              "Industrials                    69\n",
              "Information Technology         68\n",
              "Financials                     64\n",
              "Health Care                    59\n",
              "Consumer Staples               37\n",
              "Energy                         36\n",
              "Real Estate                    29\n",
              "Utilities                      28\n",
              "Materials                      25\n",
              "Telecommunications Services     5\n",
              "Name: GICS Sector, dtype: int64"
            ]
          },
          "execution_count": 16,
          "metadata": {},
          "output_type": "execute_result"
        }
      ],
      "source": [
        "# -------- Question 2 (b) ---------- #\n",
        "\n",
        "stock_info_df[\"GICS Sector\"].value_counts()\n",
        "\n",
        "# Also valid\n",
        "# stock_info_df.groupby(\"GICS Sector\").count()\n",
        "\n",
        "# ---------------------------------- #"
      ]
    },
    {
      "attachments": {},
      "cell_type": "markdown",
      "metadata": {
        "id": "Z2bHEMPxg9e_"
      },
      "source": [
        "(c) You now want to use `stock_info_df` to get information about the stocks you have price information about in `prices_df`. Create a dataframe with the \"sector\" of each stock in `prices_df`. (Some stocks in `prices_df` may not have information in `stock_info.csv`, in which case your resulting dataframe should contain NaNs)."
      ]
    },
    {
      "cell_type": "code",
      "execution_count": 17,
      "metadata": {
        "id": "TwlPNyWBhbag"
      },
      "outputs": [
        {
          "data": {
            "text/html": [
              "<div>\n",
              "<style scoped>\n",
              "    .dataframe tbody tr th:only-of-type {\n",
              "        vertical-align: middle;\n",
              "    }\n",
              "\n",
              "    .dataframe tbody tr th {\n",
              "        vertical-align: top;\n",
              "    }\n",
              "\n",
              "    .dataframe thead th {\n",
              "        text-align: right;\n",
              "    }\n",
              "</style>\n",
              "<table border=\"1\" class=\"dataframe\">\n",
              "  <thead>\n",
              "    <tr style=\"text-align: right;\">\n",
              "      <th></th>\n",
              "      <th>symbol</th>\n",
              "      <th>GICS Sector</th>\n",
              "    </tr>\n",
              "  </thead>\n",
              "  <tbody>\n",
              "    <tr>\n",
              "      <th>0</th>\n",
              "      <td>AET</td>\n",
              "      <td>Health Care</td>\n",
              "    </tr>\n",
              "    <tr>\n",
              "      <th>1</th>\n",
              "      <td>ATVI</td>\n",
              "      <td>Information Technology</td>\n",
              "    </tr>\n",
              "    <tr>\n",
              "      <th>2</th>\n",
              "      <td>BBBY</td>\n",
              "      <td>Consumer Discretionary</td>\n",
              "    </tr>\n",
              "    <tr>\n",
              "      <th>3</th>\n",
              "      <td>PNC</td>\n",
              "      <td>Financials</td>\n",
              "    </tr>\n",
              "  </tbody>\n",
              "</table>\n",
              "</div>"
            ],
            "text/plain": [
              "  symbol             GICS Sector\n",
              "0    AET             Health Care\n",
              "1   ATVI  Information Technology\n",
              "2   BBBY  Consumer Discretionary\n",
              "3    PNC              Financials"
            ]
          },
          "execution_count": 17,
          "metadata": {},
          "output_type": "execute_result"
        }
      ],
      "source": [
        "# -------- Question 2 (c) ---------- #\n",
        "\n",
        "# One solution\n",
        "prices_df.merge(\n",
        "    stock_info_df, \n",
        "    how=\"left\", \n",
        "    left_on=\"symbol\", \n",
        "    right_on=\"Ticker symbol\"\n",
        ")[[\"symbol\", \"GICS Sector\"]].drop_duplicates()\n",
        "\n",
        "# Another solution\n",
        "# prices_df[[\"symbol\"]].drop_duplicates().merge(\n",
        "#     stock_info_df, \n",
        "#     how=\"left\", \n",
        "#     left_on=\"symbol\", \n",
        "#     right_on=\"Ticker symbol\"\n",
        "# )[[\"symbol\", \"GICS Sector\"]]\n",
        "\n",
        "# There are likely other valid strategies\n",
        "\n",
        "# ---------------------------------- #"
      ]
    },
    {
      "attachments": {},
      "cell_type": "markdown",
      "metadata": {},
      "source": [
        "(d) How many stocks do we not know the sector for after using `stock_info_df`?"
      ]
    },
    {
      "cell_type": "code",
      "execution_count": 18,
      "metadata": {},
      "outputs": [
        {
          "data": {
            "text/plain": [
              "symbol         0\n",
              "GICS Sector    0\n",
              "dtype: int64"
            ]
          },
          "execution_count": 18,
          "metadata": {},
          "output_type": "execute_result"
        }
      ],
      "source": [
        "# Get NaN count from above\n",
        "sectors = prices_df.merge(\n",
        "    stock_info_df, \n",
        "    how=\"left\", \n",
        "    left_on=\"symbol\", \n",
        "    right_on=\"Ticker symbol\"\n",
        ")[[\"symbol\", \"GICS Sector\"]].drop_duplicates()\n",
        "\n",
        "sectors.isnull().sum()"
      ]
    },
    {
      "attachments": {},
      "cell_type": "markdown",
      "metadata": {},
      "source": [
        "Every stock has a sector!"
      ]
    },
    {
      "attachments": {},
      "cell_type": "markdown",
      "metadata": {
        "id": "Kt5X-Qnpg4Y7"
      },
      "source": [
        "**Question 3**: Now let's look at the price data. \n",
        "\n",
        "(a) Make a visualization to look at the \"open\" stock price for each stock in `prices_df`. Which stock do you think looks like the most promising stock to invest in based on your visualization?"
      ]
    },
    {
      "cell_type": "code",
      "execution_count": 4,
      "metadata": {
        "id": "otOFV8aliU_w"
      },
      "outputs": [
        {
          "data": {
            "text/plain": [
              "<Axes: xlabel='date', ylabel='open'>"
            ]
          },
          "execution_count": 4,
          "metadata": {},
          "output_type": "execute_result"
        },
        {
          "data": {
            "image/png": "[encoded data removed]",
            "text/plain": [
              "<Figure size 640x480 with 1 Axes>"
            ]
          },
          "metadata": {},
          "output_type": "display_data"
        }
      ],
      "source": [
        "# -------- Question 3 (a) ---------- #\n",
        "\n",
        "prices_df[\"date\"] = pd.to_datetime(prices_df[\"date\"])\n",
        "sns.lineplot(data=prices_df, x=\"date\", y=\"open\", hue=\"symbol\")\n",
        "\n",
        "# ---------------------------------- #"
      ]
    },
    {
      "attachments": {},
      "cell_type": "markdown",
      "metadata": {},
      "source": [
        "Either PNC or AET look like the best stocks from the plot."
      ]
    },
    {
      "attachments": {},
      "cell_type": "markdown",
      "metadata": {
        "id": "WZlFP-l2N9YQ"
      },
      "source": [
        "(b) You want to decide which stock(s) to invest in. One metric you can use to decide which stock is best is the [cumulative return](https://www.investopedia.com/terms/c/cumulativereturn.asp) (CR) of the stock, with the formula $$CR = \\frac{Last Price - First Price}{First Price}.$$ Find and print the cumulative returns using the opening price of each stock in the dataset across the entire time window in the data *(Hint: you can assume for this data since it happens to be true that the data is ordered by date, i.e. the first price is the price sample for a give symbol)*.\n",
        "\n"
      ]
    },
    {
      "cell_type": "code",
      "execution_count": 22,
      "metadata": {
        "colab": {
          "base_uri": "https://localhost:8080/"
        },
        "id": "PO1Cqx3xVIbB",
        "outputId": "127d0c2e-4c7e-4210-81ab-055eca1389ce"
      },
      "outputs": [
        {
          "data": {
            "text/plain": [
              "symbol\n",
              "AET     2.885215\n",
              "ATVI    2.252894\n",
              "BBBY    0.040132\n",
              "PNC     1.162449\n",
              "Name: open, dtype: float64"
            ]
          },
          "execution_count": 22,
          "metadata": {},
          "output_type": "execute_result"
        }
      ],
      "source": [
        "# -------- Question 3 (b) ---------- #\n",
        "\n",
        "# This works because the dates are already ordered\n",
        "prices_df.groupby(\"symbol\")[\"open\"].apply(lambda x: (x.iloc[-1] - x.iloc[0]) / x.iloc[0] )\n",
        "\n",
        "# If they weren't, we could do something like this.\n",
        "# def get_cr(x):\n",
        "#     min_date = x[\"date\"].min()\n",
        "#     max_date = x[\"date\"].max()\n",
        "#     first_price = x.loc[x[\"date\"] == min_date, \"open\"]\n",
        "#     last_price = x.loc[x[\"date\"] == max_date, \"open\"]\n",
        "\n",
        "#     return (last_price.iloc[0] - first_price.iloc[0]) / first_price.iloc[0] \n",
        "\n",
        "# prices_df.groupby(\"symbol\")[[\"open\", \"date\"]].apply(lambda x: get_cr(x))\n",
        "\n",
        "# ---------------------------------- #"
      ]
    },
    {
      "attachments": {},
      "cell_type": "markdown",
      "metadata": {},
      "source": [
        "(c) In hindsight, what was the best day to have purchased each of the stocks in the dataset? One (perhaps flawed) way to find this is to find the day in which the opening price was lowest for each stock. Print a dataframe with the day of the lowest opening price and the corresponding opening price on that day for each stock in dataframe."
      ]
    },
    {
      "cell_type": "code",
      "execution_count": 25,
      "metadata": {},
      "outputs": [
        {
          "data": {
            "text/html": [
              "<div>\n",
              "<style scoped>\n",
              "    .dataframe tbody tr th:only-of-type {\n",
              "        vertical-align: middle;\n",
              "    }\n",
              "\n",
              "    .dataframe tbody tr th {\n",
              "        vertical-align: top;\n",
              "    }\n",
              "\n",
              "    .dataframe thead th {\n",
              "        text-align: right;\n",
              "    }\n",
              "</style>\n",
              "<table border=\"1\" class=\"dataframe\">\n",
              "  <thead>\n",
              "    <tr style=\"text-align: right;\">\n",
              "      <th></th>\n",
              "      <th>open</th>\n",
              "      <th>date</th>\n",
              "    </tr>\n",
              "    <tr>\n",
              "      <th>symbol</th>\n",
              "      <th></th>\n",
              "      <th></th>\n",
              "    </tr>\n",
              "  </thead>\n",
              "  <tbody>\n",
              "    <tr>\n",
              "      <th>AET</th>\n",
              "      <td>26.059999</td>\n",
              "      <td>2010-07-02</td>\n",
              "    </tr>\n",
              "    <tr>\n",
              "      <th>ATVI</th>\n",
              "      <td>9.970000</td>\n",
              "      <td>2010-01-27</td>\n",
              "    </tr>\n",
              "    <tr>\n",
              "      <th>BBBY</th>\n",
              "      <td>35.799999</td>\n",
              "      <td>2010-08-31</td>\n",
              "    </tr>\n",
              "    <tr>\n",
              "      <th>PNC</th>\n",
              "      <td>43.160000</td>\n",
              "      <td>2011-08-23</td>\n",
              "    </tr>\n",
              "  </tbody>\n",
              "</table>\n",
              "</div>"
            ],
            "text/plain": [
              "             open       date\n",
              "symbol                      \n",
              "AET     26.059999 2010-07-02\n",
              "ATVI     9.970000 2010-01-27\n",
              "BBBY    35.799999 2010-08-31\n",
              "PNC     43.160000 2011-08-23"
            ]
          },
          "metadata": {},
          "output_type": "display_data"
        }
      ],
      "source": [
        "display(prices_df.groupby(\"symbol\")[[\"open\", \"date\"]].apply(lambda x: x.iloc[x[\"open\"].argmin()]))\n",
        "\n",
        "# Equivalently\n",
        "# prices_df.groupby(\"symbol\")[[\"open\", \"date\"]].apply(lambda x: x[x[\"open\"] == x[\"open\"].min()])"
      ]
    },
    {
      "attachments": {},
      "cell_type": "markdown",
      "metadata": {},
      "source": [
        "(d) Find and print the date in which total combined price of the stocks was lowest, and the corresponding total combined price"
      ]
    },
    {
      "cell_type": "code",
      "execution_count": 24,
      "metadata": {},
      "outputs": [
        {
          "data": {
            "text/plain": [
              "open    123.379997\n",
              "Name: 2010-08-31 00:00:00, dtype: float64"
            ]
          },
          "execution_count": 24,
          "metadata": {},
          "output_type": "execute_result"
        }
      ],
      "source": [
        "daily_prices = prices_df.groupby(\"date\")[[\"open\"]].sum()\n",
        "daily_prices.iloc[daily_prices[\"open\"].argmin()]"
      ]
    }
  ],
  "metadata": {
    "colab": {
      "provenance": []
    },
    "kernelspec": {
      "display_name": "Python 3",
      "name": "python3"
    },
    "language_info": {
      "codemirror_mode": {
        "name": "ipython",
        "version": 3
      },
      "file_extension": ".py",
      "mimetype": "text/x-python",
      "name": "python",
      "nbconvert_exporter": "python",
      "pygments_lexer": "ipython3",
      "version": "3.11.2"
    }
  },
  "nbformat": 4,
  "nbformat_minor": 0
}
