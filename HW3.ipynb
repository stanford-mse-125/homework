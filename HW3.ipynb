{
 "cells": [
  {
   "cell_type": "markdown",
   "metadata": {},
   "source": [
    "# Homework 3: Confidence Intervals and Bootstrap\n",
    "\n",
    "**Due**: Tuesday Apr 25th"
   ]
  },
  {
   "cell_type": "markdown",
   "metadata": {},
   "source": [
    "### HW Logistics\n",
    "\n",
    "- **Release**: Every week there will be a HW assignment released on *Wednesday* and due the following *Tuesday at 11:59pm*. \n",
    "Homework will be posted to the course website. \n",
    "- **Format**: We expect students to complete the homework notebooks using Google Colab (see Discussion 1), but this is not explicitly required and you may use whatever software you would like to run notebooks. \n",
    "- **Answers**: As a general guiding policy, you should always try to make it as clear as possible what your answer to each question is, and how you arrived at your answer. Generally speaking, this will mean including all code used to generate results, outputting the actual results to the notebook, and (when necessary) including written answers to support your code.\n",
    "- **Submission**: Homeworks will be *submitted to Gradescope*, and we expect all students to do question matching on Gradescope upon submission.\n",
    "- **Late Policy**: All students are allowed 7 total slip days for the quarter, and at most 5 can be used for a single HW assignment. There will be no late credit if you have used up all your slip days. Also, your lowest HW grade will be dropped."
   ]
  },
  {
   "cell_type": "code",
   "execution_count": 1,
   "metadata": {},
   "outputs": [],
   "source": [
    "import numpy as np\n",
    "import pandas as pd\n",
    "import matplotlib.pyplot as plt\n",
    "import seaborn as sns\n",
    "sns.set_theme()\n",
    "from scipy import stats"
   ]
  },
  {
   "cell_type": "markdown",
   "metadata": {},
   "source": [
    "## Question 1: Time Spent on HW\n",
    "\n",
    "Course staff is interested in understanding how much time students spend on homework assignments. Based on data from previous years, you are told that the true distribution for hours spent on homework is the following discrete distribution:\n",
    "\n",
    "<center>\n",
    "\n",
    "| Hours | 1 | 2 | 3 | 4 | 5 |\n",
    "|---|---|---|---|---|---|\n",
    "| Probability | 0.05 | 0.1 | 0.25 | 0.45 | 0.15 |\n",
    "\n",
    "</center>"
   ]
  },
  {
   "cell_type": "markdown",
   "metadata": {},
   "source": [
    "**Part (a)**: What is the expected value of the above distribution? What is the variance? Write code to show the calculations used to arrive at your answers."
   ]
  },
  {
   "cell_type": "markdown",
   "metadata": {},
   "source": [
    "**Part (b)**: Generate a sample of size $n = 100$ (with replacement) from the above distribution. Use your sample to calculate a point estimate for the mean and variance of the distribution. Lastly, calculate a 95% confidence interval for the mean of the distribution, using the analytical formula to estimate the standard error."
   ]
  },
  {
   "cell_type": "code",
   "execution_count": 2,
   "metadata": {},
   "outputs": [],
   "source": [
    "# Set seed\n",
    "np.random.seed(10)\n",
    "\n",
    "# -------  Write code below ---------- #"
   ]
  },
  {
   "cell_type": "markdown",
   "metadata": {},
   "source": [
    "**Part (c)**: Repeat the process from part (b) for 1000 trials, with each trial generating a new sample and corresponding point estimates and confidence intervals. For each trial, calculate whether or not the confidence interval contains the true mean calculated in part (a). In what percent of trials did the confidence interval contain the true mean? Does this align with expectations?"
   ]
  },
  {
   "cell_type": "code",
   "execution_count": 3,
   "metadata": {},
   "outputs": [],
   "source": [
    "# Set seed\n",
    "np.random.seed(10)\n",
    "\n",
    "# -------  Write code below ---------- #"
   ]
  },
  {
   "cell_type": "markdown",
   "metadata": {},
   "source": [
    "## Question 2: Clickthrough rate\n",
    "\n",
    "Suppose a company has a website with an advertisement. The company believes that the ad is working if at least 30% of website visitors click on the ad. In order to access whether or not the ad is successful, the company collects data for 50 website visitors, of which 18 click on the advertisement."
   ]
  },
  {
   "cell_type": "markdown",
   "metadata": {},
   "source": [
    "**Part (a)**: Calculate a point estimate for the clickthrough rate, i.e. the proportion of website visitors that clicked on the ad. Then, calculate a 95% confidence interval for the clickthrough rate using the analytical formula to estimate the standard error. Based on your CI, do you think you should tell the company that the ad is work?"
   ]
  },
  {
   "cell_type": "markdown",
   "metadata": {},
   "source": [
    "**Part (b)**: Calculate a 95% confidence interval for the clickthrough rate based on *bootstrap* samples from the observed data, using both the percentile method and the normal approximation method. For each, use 1000 bootstrap replications. Is your recommendation to the company the same as in part (a)?"
   ]
  },
  {
   "cell_type": "code",
   "execution_count": 4,
   "metadata": {},
   "outputs": [],
   "source": [
    "# Set seed\n",
    "np.random.seed(10)\n",
    "\n",
    "# -------  Write code below ---------- #"
   ]
  },
  {
   "cell_type": "markdown",
   "metadata": {},
   "source": [
    "## Question 3: SAT Scores\n",
    "\n",
    "The file `sat_data.csv` contains a collection of SAT math, reading, and writing scores. Use the following code to read in the dataset."
   ]
  },
  {
   "cell_type": "code",
   "execution_count": 5,
   "metadata": {},
   "outputs": [],
   "source": [
    "sat_data = pd.read_csv(\"https://raw.githubusercontent.com/stanford-mse-125/homework/main/data/sat_data.csv\")"
   ]
  },
  {
   "cell_type": "markdown",
   "metadata": {},
   "source": [
    "**Part (a)**: Calculate a point estimate for the 80th percentile score in each subject area using the sat scores dataset. Are these values more or less than your guesses from part (a)?"
   ]
  },
  {
   "cell_type": "markdown",
   "metadata": {},
   "source": [
    "**Part (b)**: Using the bootstrap percentile method, calculate 95\\% confidence intervals for the 80th percentile of SAT scores for each subject area. Print your resulting confidence intervals."
   ]
  },
  {
   "cell_type": "code",
   "execution_count": 6,
   "metadata": {},
   "outputs": [],
   "source": [
    "# Set seed\n",
    "np.random.seed(10)\n",
    "\n",
    "# -------  Write code below ---------- #"
   ]
  },
  {
   "cell_type": "markdown",
   "metadata": {},
   "source": [
    "**Part (c)**: If you look [here](https://blog.prepscholar.com/sat-historical-percentiles-for-2014-2013-2012-and-2011), you should notice that the actual 80th percentile scores from 2015 (the last year with 3 subject areas) are higher than the point estimates we obtained in part (a). List 2 reasons why the percentiles in our dataset may be lower. "
   ]
  },
  {
   "cell_type": "markdown",
   "metadata": {},
   "source": [
    "**Part (d)**: Do you think the percentiles listed in the linked website from part (c) should have confidence intervals, like the ones we calculated in part (d)? Why or why not?"
   ]
  }
 ],
 "metadata": {
  "kernelspec": {
   "display_name": "Python 3",
   "language": "python",
   "name": "python3"
  },
  "language_info": {
   "codemirror_mode": {
    "name": "ipython",
    "version": 3
   },
   "file_extension": ".py",
   "mimetype": "text/x-python",
   "name": "python",
   "nbconvert_exporter": "python",
   "pygments_lexer": "ipython3",
   "version": "3.8.8"
  }
 },
 "nbformat": 4,
 "nbformat_minor": 2
}
