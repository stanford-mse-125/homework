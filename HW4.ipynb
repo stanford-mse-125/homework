{
 "cells": [
  {
   "cell_type": "markdown",
   "metadata": {},
   "source": [
    "# Homework 4: Hypothesis Testing and Correlation\n",
    "\n",
    "**Due**: Tuesday May 2nd"
   ]
  },
  {
   "cell_type": "markdown",
   "metadata": {},
   "source": [
    "### HW Logistics\n",
    "\n",
    "- **Release**: Every week there will be a HW assignment released on *Wednesday* and due the following *Tuesday at 11:59pm*. \n",
    "Homework will be posted to the course website. \n",
    "- **Format**: We expect students to complete the homework notebooks using Google Colab (see Discussion 1), but this is not explicitly required and you may use whatever software you would like to run notebooks. \n",
    "- **Answers**: As a general guiding policy, you should always try to make it as clear as possible what your answer to each question is, and how you arrived at your answer. Generally speaking, this will mean including all code used to generate results, outputting the actual results to the notebook, and (when necessary) including written answers to support your code.\n",
    "- **Submission**: Homeworks will be *submitted to Gradescope*, and we expect all students to do question matching on Gradescope upon submission.\n",
    "- **Late Policy**: All students are allowed 7 total slip days for the quarter, and at most 5 can be used for a single HW assignment. There will be no late credit if you have used up all your slip days. Also, your lowest HW grade will be dropped."
   ]
  },
  {
   "cell_type": "code",
   "execution_count": null,
   "metadata": {},
   "outputs": [],
   "source": [
    "import numpy as np\n",
    "import pandas as pd\n",
    "import matplotlib.pyplot as plt\n",
    "import seaborn as sns\n",
    "sns.set_theme()\n",
    "from scipy import stats"
   ]
  },
  {
   "cell_type": "markdown",
   "metadata": {},
   "source": [
    "## Question 1: Clickthrough Rates\n",
    "\n",
    "We will revisit the problem of clickthrough rates from Homework 3. Your company believes that an advertisement is successful if the clickthrough rate is greater than 30%. For the current ad on the website, the company has collected data for 50 website visitors, of which 18 have clicked on the ad. You would like to use your data to assess if the current ad is successful or not."
   ]
  },
  {
   "cell_type": "markdown",
   "metadata": {},
   "source": [
    "**Part (a)**: Formulate a hypothesis test to formally test if the current ad is successful by stating the null and alternative hypotheses of the test. Is your hypothesis test a one-sided or two-sided hypothesis test?"
   ]
  },
  {
   "cell_type": "markdown",
   "metadata": {},
   "source": [
    "**Part (b)**: Generate 1000 samples, each of size n=50, from the distribution described in your null hypothesis. For each sample, generate a point estimate of the clickthrough rate for that sample. Plot a histogram of the resulting null sampling distribution."
   ]
  },
  {
   "cell_type": "code",
   "execution_count": null,
   "metadata": {},
   "outputs": [],
   "source": [
    "# set seed\n",
    "np.random.seed(10)\n",
    "\n",
    "# -------- Code here --------- #"
   ]
  },
  {
   "cell_type": "markdown",
   "metadata": {},
   "source": [
    "**Part (c)**: Using your null sampling distribution from part (b) and the data observed by the company, generate 2 p-values for your hypothesis test, one using the normal approximation method and one using the percentile method. Are the p-values meaningfully different? Give an explanation why or why not this is the case."
   ]
  },
  {
   "cell_type": "markdown",
   "metadata": {},
   "source": [
    "**Part (d)**: Using the normal approximation p-value from part (c), make a conclusion about your hypothesis test from part (a), using a significance level of $\\alpha = 0.05$. Make sure to give an interpretation of your conclusion in the context of the business problem."
   ]
  },
  {
   "cell_type": "markdown",
   "metadata": {},
   "source": [
    "**Part (e)**: Explain the concept of a false positive and a false negative in the context of this problem. Which error do you think is worse in this context?"
   ]
  },
  {
   "cell_type": "markdown",
   "metadata": {},
   "source": [
    "## Question 2: Comparing Median Incomes\n",
    "\n",
    "We will return to the census data used in homework 1. Specifically, we will test if men and women have different median incomes. The following code will read in the data."
   ]
  },
  {
   "cell_type": "code",
   "execution_count": null,
   "metadata": {},
   "outputs": [],
   "source": [
    "data = pd.read_csv(\"https://raw.githubusercontent.com/stanford-mse-125/homework/main/data/census_corrected.csv\")"
   ]
  },
  {
   "cell_type": "markdown",
   "metadata": {},
   "source": [
    "**Part (a)**: Why does it make sense to compare the median incomes of men and women, instead of comparing the means?"
   ]
  },
  {
   "cell_type": "markdown",
   "metadata": {},
   "source": [
    "**Part (b)**: State the null and alternative hypothesis for testing whether or not men and women have the same median total family income. Is this a one-sided or two-sided hypothesis test?"
   ]
  },
  {
   "cell_type": "markdown",
   "metadata": {},
   "source": [
    "**Part (c)**: Use sampling to conduct the hypothesis test you described in part (b) using $\\alpha = 0.05$. Similar to Question 1, you will need to 1) generate a collection of point estimates (use 1000 samples) for the relevant sample statistic assuming the null hypothesis 2) generate a p-value (using the normal approximation method this time), and 3) make a conclusion based on your p-value, including an interpretation in the context of the problem."
   ]
  },
  {
   "cell_type": "code",
   "execution_count": null,
   "metadata": {},
   "outputs": [],
   "source": [
    "# set seed\n",
    "np.random.seed(10)\n",
    "\n",
    "# -------- Code here --------- #"
   ]
  },
  {
   "cell_type": "markdown",
   "metadata": {},
   "source": [
    "**Part (d)**: Using the same null distribution as in part (c), what is the minimum difference in median income between men and women that would allow us to reject the null hypothesis, at a $\\alpha=0.05$ significance level?"
   ]
  }
 ],
 "metadata": {
  "kernelspec": {
   "display_name": "Python 3",
   "language": "python",
   "name": "python3"
  },
  "language_info": {
   "codemirror_mode": {
    "name": "ipython",
    "version": 3
   },
   "file_extension": ".py",
   "mimetype": "text/x-python",
   "name": "python",
   "nbconvert_exporter": "python",
   "pygments_lexer": "ipython3",
   "version": "3.8.8"
  }
 },
 "nbformat": 4,
 "nbformat_minor": 2
}
