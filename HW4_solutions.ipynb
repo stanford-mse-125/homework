{
 "cells": [
  {
   "attachments": {},
   "cell_type": "markdown",
   "metadata": {},
   "source": [
    "# Homework 4: Hypothesis Testing and Correlation\n",
    "\n",
    "**Due**: Tuesday May 2nd"
   ]
  },
  {
   "attachments": {},
   "cell_type": "markdown",
   "metadata": {},
   "source": [
    "### HW Logistics\n",
    "\n",
    "- **Release**: Every week there will be a HW assignment released on *Wednesday* and due the following *Tuesday at 11:59pm*. \n",
    "Homework will be posted to the course website. \n",
    "- **Format**: We expect students to complete the homework notebooks using Google Colab (see Discussion 1), but this is not explicitly required and you may use whatever software you would like to run notebooks. \n",
    "- **Answers**: As a general guiding policy, you should always try to make it as clear as possible what your answer to each question is, and how you arrived at your answer. Generally speaking, this will mean including all code used to generate results, outputting the actual results to the notebook, and (when necessary) including written answers to support your code.\n",
    "- **Submission**: Homeworks will be *submitted to Gradescope*, and we expect all students to do question matching on Gradescope upon submission.\n",
    "- **Late Policy**: All students are allowed 7 total slip days for the quarter, and at most 5 can be used for a single HW assignment. There will be no late credit if you have used up all your slip days. Also, your lowest HW grade will be dropped."
   ]
  },
  {
   "cell_type": "code",
   "execution_count": 1,
   "metadata": {},
   "outputs": [],
   "source": [
    "import numpy as np\n",
    "import pandas as pd\n",
    "import matplotlib.pyplot as plt\n",
    "import seaborn as sns\n",
    "sns.set_theme()\n",
    "from scipy import stats"
   ]
  },
  {
   "attachments": {},
   "cell_type": "markdown",
   "metadata": {},
   "source": [
    "## Question 1: Clickthrough Rates\n",
    "\n",
    "We will revisit the problem of clickthrough rates from Homework 3. Your company believes that an advertisement is successful if the clickthrough rate is greater than 30%. For the current ad on the website, the company has collected data for 50 website visitors, of which 18 have clicked on the ad. You would like to use your data to assess if the current ad is successful or not."
   ]
  },
  {
   "attachments": {},
   "cell_type": "markdown",
   "metadata": {},
   "source": [
    "**Part (a)**: Formulate a hypothesis test to formally test if the current ad is successful by stating the null and alternative hypotheses of the test. Is your hypothesis test a one-sided or two-sided hypothesis test?"
   ]
  },
  {
   "attachments": {},
   "cell_type": "markdown",
   "metadata": {},
   "source": [
    "*Null hypothesis*: The clickthrough rate is equal to 0.30.\n",
    "\n",
    "*Alternative hypothesis*: The clickthrough rate is greater than 0.30.\n",
    "\n",
    "This is a one-sided test."
   ]
  },
  {
   "attachments": {},
   "cell_type": "markdown",
   "metadata": {},
   "source": [
    "**Part (b)**: Generate 1000 samples, each of size n=50, from the distribution described in your null hypothesis. For each sample, generate a point estimate of the clickthrough rate for that sample. Plot a histogram of the resulting null sampling distribution."
   ]
  },
  {
   "cell_type": "code",
   "execution_count": 9,
   "metadata": {},
   "outputs": [
    {
     "data": {
      "text/plain": [
       "<Axes: ylabel='Count'>"
      ]
     },
     "execution_count": 9,
     "metadata": {},
     "output_type": "execute_result"
    },
    {
     "data": {
      "image/png": "[encoded data removed]",
      "text/plain": [
       "<Figure size 640x480 with 1 Axes>"
      ]
     },
     "metadata": {},
     "output_type": "display_data"
    }
   ],
   "source": [
    "# set seed\n",
    "np.random.seed(10)\n",
    "\n",
    "# -------- Code here --------- #\n",
    "\n",
    "p_null = 0.30\n",
    "B = 1000\n",
    "n = 50\n",
    "estimates = np.zeros(B)\n",
    "\n",
    "data = pd.DataFrame({\n",
    "    \"outcome\": [\"clicked\", \"not clicked\"],\n",
    "    \"prob\": [p_null, 1 - p_null]\n",
    "})\n",
    "for i in range(B):\n",
    "    sample = data.sample(n=n, weights=\"prob\", replace=True)\n",
    "    estimates[i] = sample.groupby(\"outcome\").size()[\"clicked\"] / n\n",
    "\n",
    "sns.histplot(x=estimates, bins=20)\n"
   ]
  },
  {
   "attachments": {},
   "cell_type": "markdown",
   "metadata": {},
   "source": [
    "**Part (c)**: Using your null sampling distribution from part (b) and the data observed by the company, generate 2 p-values for your hypothesis test, one using the normal approximation method and one using the percentile method. Are the p-values meaningfully different? Give an explanation why or why not this is the case."
   ]
  },
  {
   "cell_type": "code",
   "execution_count": 15,
   "metadata": {},
   "outputs": [
    {
     "name": "stdout",
     "output_type": "stream",
     "text": [
      "P value from normal approximation: 0.1813\n",
      "P value from percentile: 0.223\n"
     ]
    }
   ],
   "source": [
    "p_obs = 18 / 50\n",
    "\n",
    "# Generating one-sided p-values\n",
    "p_val_norm_approx = 1-stats.norm.cdf(p_obs, loc=estimates.mean(), scale=estimates.std())\n",
    "print(f\"P value from normal approximation: {np.round(p_val_norm_approx, 4)}\")\n",
    "p_val_percentile = np.mean(estimates >= p_obs)\n",
    "print(f\"P value from percentile: {np.round(p_val_percentile, 4)}\")"
   ]
  },
  {
   "attachments": {},
   "cell_type": "markdown",
   "metadata": {},
   "source": [
    "The p-values are siginficantly different. You'll notice that the percentile method gives a larger p-value than the normal approximation when using >=, but gives a smaller p-value than the normal approximation when using > (even though both are valid). This is because each sample only has n=50 data points, so the point estimates only take on 1 of 50 unique values, and thus there is a nontrivial subset of point estimates that exactly equal 18 / 50. Therefore, there is significant difference between using >= and > in the percentile method, and the normal approximation method is roughly halfway in between these two options. This would not be the case if n was larger."
   ]
  },
  {
   "attachments": {},
   "cell_type": "markdown",
   "metadata": {},
   "source": [
    "**Part (d)**: Using the normal approximation p-value from part (c), make a conclusion about your hypothesis test from part (a), using a significance level of $\\alpha = 0.05$. Make sure to give an interpretation of your conclusion in the context of the business problem."
   ]
  },
  {
   "attachments": {},
   "cell_type": "markdown",
   "metadata": {},
   "source": [
    "The p-value (using the normal approximation approach) is greater than 0.05; thus we do not have enough evidence to reject the null hypothesis. In context, this means that we cannot conclude that the clickthrough rate is greater than 0.30. "
   ]
  },
  {
   "attachments": {},
   "cell_type": "markdown",
   "metadata": {},
   "source": [
    "**Part (e)**: Explain the concept of a false positive and a false negative in the context of this problem. Which error do you think is worse in this context?"
   ]
  },
  {
   "attachments": {},
   "cell_type": "markdown",
   "metadata": {},
   "source": [
    "False positive: concluding that the clickthrough rate is greater than 0.30, i.e. that the ad is successful, when in reality it is not. \n",
    "\n",
    "False negative: failing to conclude that the clickthrough rate is greater than 0.30, when in reality it is.\n",
    "\n",
    "You could make an argument that either is worse in this context. I would argue that a false positive is worse, because in this case we think that an unsuccessful ad is actually successful, which means that we will likely not replace the ad with a potentially better performing ad for a substantial period of time. "
   ]
  },
  {
   "attachments": {},
   "cell_type": "markdown",
   "metadata": {},
   "source": [
    "## Question 2: Comparing Median Incomes\n",
    "\n",
    "We will return to the census data used in homework 1. Specifically, we will test if men and women have different median incomes. The following code will read in the data."
   ]
  },
  {
   "cell_type": "code",
   "execution_count": 2,
   "metadata": {},
   "outputs": [],
   "source": [
    "data = pd.read_csv(\"https://raw.githubusercontent.com/stanford-mse-125/homework/main/data/census_corrected.csv\")"
   ]
  },
  {
   "attachments": {},
   "cell_type": "markdown",
   "metadata": {},
   "source": [
    "**Part (a)**: Why does it make sense to compare the median incomes of men and women, instead of comparing the means?"
   ]
  },
  {
   "attachments": {},
   "cell_type": "markdown",
   "metadata": {},
   "source": [
    "The data is very right-skewed, which adversely affects the mean (makes the mean higher than expected), which makes the median a better metric."
   ]
  },
  {
   "attachments": {},
   "cell_type": "markdown",
   "metadata": {},
   "source": [
    "**Part (b)**: State the null and alternative hypothesis for testing whether or not men and women have the same median total family income. Is this a one-sided or two-sided hypothesis test?"
   ]
  },
  {
   "attachments": {},
   "cell_type": "markdown",
   "metadata": {},
   "source": [
    "*null hypothesis*: men and women have the same median family income.\n",
    "\n",
    "*altnerative hypothesis*: men and women have different median family incomes.\n",
    "\n",
    "This is a two-sided test."
   ]
  },
  {
   "attachments": {},
   "cell_type": "markdown",
   "metadata": {},
   "source": [
    "**Part (c)**: Use sampling to conduct the hypothesis test you described in part (b) using $\\alpha = 0.05$. Similar to Question 1, you will need to 1) generate a collection of point estimates (use 1000 samples) for the relevant sample statistic assuming the null hypothesis 2) generate a p-value (using the normal approximation method this time), and 3) make a conclusion based on your p-value, including an interpretation in the context of the problem."
   ]
  },
  {
   "cell_type": "code",
   "execution_count": 13,
   "metadata": {},
   "outputs": [
    {
     "name": "stdout",
     "output_type": "stream",
     "text": [
      "P value from normal approximation: 0.5333\n"
     ]
    }
   ],
   "source": [
    "# set seed\n",
    "np.random.seed(10)\n",
    "\n",
    "# -------- Code here --------- #\n",
    "\n",
    "B = 1000\n",
    "n = data.shape[0]\n",
    "estimates = np.zeros(B)\n",
    "for i in range(B):\n",
    "    sample = pd.DataFrame({\n",
    "        'sex': data[\"sex\"].values,\n",
    "        'income': data.sample(n=n, replace=True)['total_family_income'].values\n",
    "    })\n",
    "    medians = sample.groupby(\"sex\")[\"income\"].median()\n",
    "    estimates[i] = medians[\"Male\"] - medians[\"Female\"]\n",
    "\n",
    "obs_medians = data.groupby(\"sex\")[\"total_family_income\"].median()\n",
    "obs_estimate = obs_medians[\"Male\"] - obs_medians[\"Female\"]\n",
    "\n",
    "# Generate two-sided p-value\n",
    "p_val = 2 * (1-stats.norm.cdf(obs_estimate, loc=0, scale=estimates.std())) # also fine to use 0 as loc\n",
    "print(f\"P value from normal approximation: {np.round(p_val, 4)}\")"
   ]
  },
  {
   "attachments": {},
   "cell_type": "markdown",
   "metadata": {},
   "source": [
    "The p-value is much greater than 0.05, do we do not have enough evidence to reject the null hypothesis, and thus cannot conclude that men and women have significantly different total family incomes."
   ]
  },
  {
   "attachments": {},
   "cell_type": "markdown",
   "metadata": {},
   "source": [
    "**Part (d)**: Using the same null distribution as in part (c), what is the minimum difference in median income between men and women that would allow us to reject the null hypothesis, at a $\\alpha=0.05$ significance level?"
   ]
  },
  {
   "cell_type": "code",
   "execution_count": 15,
   "metadata": {},
   "outputs": [
    {
     "name": "stdout",
     "output_type": "stream",
     "text": [
      "Minimum difference to be able to reject: 6920.9488\n"
     ]
    }
   ],
   "source": [
    "# Use the 0.975 quantile because it's two-sided\n",
    "cutoff = stats.norm.ppf(0.975, loc=0, scale=estimates.std())\n",
    "print(f\"Minimum difference to be able to reject: {np.round(cutoff, 4)}\")"
   ]
  }
 ],
 "metadata": {
  "kernelspec": {
   "display_name": "Python 3",
   "language": "python",
   "name": "python3"
  },
  "language_info": {
   "codemirror_mode": {
    "name": "ipython",
    "version": 3
   },
   "file_extension": ".py",
   "mimetype": "text/x-python",
   "name": "python",
   "nbconvert_exporter": "python",
   "pygments_lexer": "ipython3",
   "version": "3.11.2"
  },
  "orig_nbformat": 4
 },
 "nbformat": 4,
 "nbformat_minor": 2
}
